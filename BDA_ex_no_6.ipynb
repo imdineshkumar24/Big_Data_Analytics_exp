{
  "nbformat": 4,
  "nbformat_minor": 0,
  "metadata": {
    "colab": {
      "provenance": [],
      "authorship_tag": "ABX9TyOdzeMJpkPG7I3Ww4IabjLz",
      "include_colab_link": true
    },
    "kernelspec": {
      "name": "python3",
      "display_name": "Python 3"
    },
    "language_info": {
      "name": "python"
    }
  },
  "cells": [
    {
      "cell_type": "markdown",
      "metadata": {
        "id": "view-in-github",
        "colab_type": "text"
      },
      "source": [
        "<a href=\"https://colab.research.google.com/github/imdineshkumar24/Big_Data_Analytics_exp/blob/main/BDA_ex_no_6.ipynb\" target=\"_parent\"><img src=\"https://colab.research.google.com/assets/colab-badge.svg\" alt=\"Open In Colab\"/></a>"
      ]
    },
    {
      "cell_type": "code",
      "execution_count": null,
      "metadata": {
        "colab": {
          "base_uri": "https://localhost:8080/"
        },
        "id": "bXkEYDV3Y_sF",
        "outputId": "8764b771-ac1f-4276-9369-33366f66ccf4"
      },
      "outputs": [
        {
          "output_type": "stream",
          "name": "stdout",
          "text": [
            "Collecting pyspark\n",
            "  Downloading pyspark-3.4.1.tar.gz (310.8 MB)\n",
            "\u001b[2K     \u001b[90m━━━━━━━━━━━━━━━━━━━━━━━━━━━━━━━━━━━━━━━\u001b[0m \u001b[32m310.8/310.8 MB\u001b[0m \u001b[31m4.3 MB/s\u001b[0m eta \u001b[36m0:00:00\u001b[0m\n",
            "\u001b[?25h  Preparing metadata (setup.py) ... \u001b[?25l\u001b[?25hdone\n",
            "Requirement already satisfied: py4j==0.10.9.7 in /usr/local/lib/python3.10/dist-packages (from pyspark) (0.10.9.7)\n",
            "Building wheels for collected packages: pyspark\n",
            "  Building wheel for pyspark (setup.py) ... \u001b[?25l\u001b[?25hdone\n",
            "  Created wheel for pyspark: filename=pyspark-3.4.1-py2.py3-none-any.whl size=311285387 sha256=d8cf114a0eda68bba02bbedff924974007c4867f006348f1a12225e72bd7d282\n",
            "  Stored in directory: /root/.cache/pip/wheels/0d/77/a3/ff2f74cc9ab41f8f594dabf0579c2a7c6de920d584206e0834\n",
            "Successfully built pyspark\n",
            "Installing collected packages: pyspark\n",
            "Successfully installed pyspark-3.4.1\n"
          ]
        }
      ],
      "source": [
        "!pip install pyspark"
      ]
    },
    {
      "cell_type": "code",
      "source": [
        "from pyspark.sql import SparkSession\n",
        "spark = SparkSession.builder.master('local[1]').appName('spark.com').enableHiveSupport().getOrCreate()"
      ],
      "metadata": {
        "id": "SmeanOFkZVec"
      },
      "execution_count": null,
      "outputs": []
    },
    {
      "cell_type": "code",
      "source": [
        "from pyspark.sql import functions as functions\n",
        "data = [\n",
        "[\"21CSR55\", \"sakthi\",'vel', \"CSE\", 90, 80],\n",
        "[\"21CSR76\", \"Vetri\",'vendhan', \"CSE\", 87, 80],\n",
        "[\"21ADR072\", \"Dinesh\",'Kumar',\"AI\", 94, 89],\n",
        "[\"21ITR005\", \"Rasil\",'Risam',\"IT\",68, 56],\n",
        "[\"21MTR002\", \"Deepak\",'Kumar',\"MTS\", 88, 94]\n",
        "]\n",
        "columns = ['ID','f_name','l_name','dept','subject_1','subject_2']\n",
        "df = spark.createDataFrame(data,columns)\n",
        "df.show()"
      ],
      "metadata": {
        "colab": {
          "base_uri": "https://localhost:8080/"
        },
        "id": "cnEmPYCpZXry",
        "outputId": "c7d906bb-a481-42af-db13-e2de29b06473"
      },
      "execution_count": null,
      "outputs": [
        {
          "output_type": "stream",
          "name": "stdout",
          "text": [
            "+--------+------+-------+----+---------+---------+\n",
            "|      ID|f_name| l_name|dept|subject_1|subject_2|\n",
            "+--------+------+-------+----+---------+---------+\n",
            "| 21CSR55|sakthi|    vel| CSE|       90|       80|\n",
            "| 21CSR76| Vetri|vendhan| CSE|       87|       80|\n",
            "|21ADR072|Dinesh|  Kumar|  AI|       94|       89|\n",
            "|21ITR005| Rasil|  Risam|  IT|       68|       56|\n",
            "|21MTR002|Deepak|  Kumar| MTS|       88|       94|\n",
            "+--------+------+-------+----+---------+---------+\n",
            "\n"
          ]
        }
      ]
    },
    {
      "cell_type": "code",
      "source": [
        "from pyspark.sql.functions import concat\n",
        "df.select(concat(df.f_name, df.l_name).alias('full_name')).show()"
      ],
      "metadata": {
        "colab": {
          "base_uri": "https://localhost:8080/"
        },
        "id": "rCt_hoVqnoWX",
        "outputId": "90dac11b-a3ae-46ae-fb96-6c14af4cae2e"
      },
      "execution_count": null,
      "outputs": [
        {
          "output_type": "stream",
          "name": "stdout",
          "text": [
            "+------------+\n",
            "|   full_name|\n",
            "+------------+\n",
            "|   sakthivel|\n",
            "|Vetrivendhan|\n",
            "| DineshKumar|\n",
            "|  RasilRisam|\n",
            "| DeepakKumar|\n",
            "+------------+\n",
            "\n"
          ]
        }
      ]
    },
    {
      "cell_type": "code",
      "source": [
        "from pyspark.sql.functions import col\n",
        "df.filter(col('dept').contains('CSE')).show()"
      ],
      "metadata": {
        "colab": {
          "base_uri": "https://localhost:8080/"
        },
        "id": "9X0bUtJkbW3p",
        "outputId": "bc930fb6-2d87-44a0-90ac-b9c3a3632eb1"
      },
      "execution_count": null,
      "outputs": [
        {
          "output_type": "stream",
          "name": "stdout",
          "text": [
            "+-------+------+-------+----+---------+---------+\n",
            "|     ID|f_name| l_name|dept|subject_1|subject_2|\n",
            "+-------+------+-------+----+---------+---------+\n",
            "|21CSR55|sakthi|    vel| CSE|       90|       80|\n",
            "|21CSR76| Vetri|vendhan| CSE|       87|       80|\n",
            "+-------+------+-------+----+---------+---------+\n",
            "\n"
          ]
        }
      ]
    },
    {
      "cell_type": "code",
      "source": [
        "from pyspark.sql.functions import col\n",
        "df.filter(col('f_name').startswith('D')).show()"
      ],
      "metadata": {
        "colab": {
          "base_uri": "https://localhost:8080/"
        },
        "id": "E5b873TwbkAo",
        "outputId": "45adefb8-0078-4ff0-ca7e-b5a336496340"
      },
      "execution_count": null,
      "outputs": [
        {
          "output_type": "stream",
          "name": "stdout",
          "text": [
            "+--------+------+------+----+---------+---------+\n",
            "|      ID|f_name|l_name|dept|subject_1|subject_2|\n",
            "+--------+------+------+----+---------+---------+\n",
            "|21ADR072|Dinesh| Kumar|  AI|       94|       89|\n",
            "|21MTR002|Deepak| Kumar| MTS|       88|       94|\n",
            "+--------+------+------+----+---------+---------+\n",
            "\n"
          ]
        }
      ]
    },
    {
      "cell_type": "code",
      "source": [
        "from pyspark.sql.functions import col\n",
        "df.filter(col('l_name').endswith('n')).show()"
      ],
      "metadata": {
        "colab": {
          "base_uri": "https://localhost:8080/"
        },
        "id": "gW4mtK5Qbq5Z",
        "outputId": "b0a355be-7c2e-404f-f3d0-c557f1d25eb6"
      },
      "execution_count": null,
      "outputs": [
        {
          "output_type": "stream",
          "name": "stdout",
          "text": [
            "+-------+------+-------+----+---------+---------+\n",
            "|     ID|f_name| l_name|dept|subject_1|subject_2|\n",
            "+-------+------+-------+----+---------+---------+\n",
            "|21CSR76| Vetri|vendhan| CSE|       87|       80|\n",
            "+-------+------+-------+----+---------+---------+\n",
            "\n"
          ]
        }
      ]
    },
    {
      "cell_type": "code",
      "source": [
        "df.createOrReplaceTempView(\"students\")\n",
        "df.show()"
      ],
      "metadata": {
        "colab": {
          "base_uri": "https://localhost:8080/"
        },
        "id": "hPtvagx1jIva",
        "outputId": "f3d531f9-5ed1-42ec-80e4-5189d61acd85"
      },
      "execution_count": null,
      "outputs": [
        {
          "output_type": "stream",
          "name": "stdout",
          "text": [
            "+--------+------+-------+----+---------+---------+\n",
            "|      ID|f_name| l_name|dept|subject_1|subject_2|\n",
            "+--------+------+-------+----+---------+---------+\n",
            "| 21CSR55|sakthi|    vel| CSE|       90|       80|\n",
            "| 21CSR76| Vetri|vendhan| CSE|       87|       80|\n",
            "|21ADR072|Dinesh|  Kumar|  AI|       94|       89|\n",
            "|21ITR005| Rasil|  Risam|  IT|       68|       56|\n",
            "|21MTR002|Deepak|  Kumar| MTS|       88|       94|\n",
            "+--------+------+-------+----+---------+---------+\n",
            "\n"
          ]
        }
      ]
    },
    {
      "cell_type": "code",
      "source": [
        "length_df = spark.sql(\"SELECT f_name,length(f_name) AS type_length FROM students\")\n",
        "length_df.show()"
      ],
      "metadata": {
        "colab": {
          "base_uri": "https://localhost:8080/"
        },
        "id": "eh5btBXDj_-h",
        "outputId": "c77c4721-455d-46a9-b79b-478f0c0192aa"
      },
      "execution_count": null,
      "outputs": [
        {
          "output_type": "stream",
          "name": "stdout",
          "text": [
            "+------+-----------+\n",
            "|f_name|type_length|\n",
            "+------+-----------+\n",
            "|sakthi|          6|\n",
            "| Vetri|          5|\n",
            "|Dinesh|          6|\n",
            "| Rasil|          5|\n",
            "|Deepak|          6|\n",
            "+------+-----------+\n",
            "\n"
          ]
        }
      ]
    },
    {
      "cell_type": "code",
      "source": [
        "from pyspark.sql.functions import ascii\n",
        "ascii_df=df.withColumn(\"student_ascii\",ascii(col(\"f_name\")))\n",
        "ascii_df.show()"
      ],
      "metadata": {
        "colab": {
          "base_uri": "https://localhost:8080/"
        },
        "id": "BTX9MlB2kcp4",
        "outputId": "8b50f15a-c13f-4fa3-c477-027c690884f2"
      },
      "execution_count": null,
      "outputs": [
        {
          "output_type": "stream",
          "name": "stdout",
          "text": [
            "+--------+------+-------+----+---------+---------+-------------+\n",
            "|      ID|f_name| l_name|dept|subject_1|subject_2|student_ascii|\n",
            "+--------+------+-------+----+---------+---------+-------------+\n",
            "| 21CSR55|sakthi|    vel| CSE|       90|       80|          115|\n",
            "| 21CSR76| Vetri|vendhan| CSE|       87|       80|           86|\n",
            "|21ADR072|Dinesh|  Kumar|  AI|       94|       89|           68|\n",
            "|21ITR005| Rasil|  Risam|  IT|       68|       56|           82|\n",
            "|21MTR002|Deepak|  Kumar| MTS|       88|       94|           68|\n",
            "+--------+------+-------+----+---------+---------+-------------+\n",
            "\n"
          ]
        }
      ]
    },
    {
      "cell_type": "code",
      "source": [
        "from pyspark.sql.functions import base64\n",
        "encoded_df=df.withColumn(\"student_base64\",base64(col(\"ID\")))\n",
        "encoded_df.show()"
      ],
      "metadata": {
        "colab": {
          "base_uri": "https://localhost:8080/"
        },
        "id": "hfM0UUEGkqQh",
        "outputId": "fabbaaa8-39fa-4d60-f46e-571e6c6e98f9"
      },
      "execution_count": null,
      "outputs": [
        {
          "output_type": "stream",
          "name": "stdout",
          "text": [
            "+--------+------+-------+----+---------+---------+--------------+\n",
            "|      ID|f_name| l_name|dept|subject_1|subject_2|student_base64|\n",
            "+--------+------+-------+----+---------+---------+--------------+\n",
            "| 21CSR55|sakthi|    vel| CSE|       90|       80|  MjFDU1I1NQ==|\n",
            "| 21CSR76| Vetri|vendhan| CSE|       87|       80|  MjFDU1I3Ng==|\n",
            "|21ADR072|Dinesh|  Kumar|  AI|       94|       89|  MjFBRFIwNzI=|\n",
            "|21ITR005| Rasil|  Risam|  IT|       68|       56|  MjFJVFIwMDU=|\n",
            "|21MTR002|Deepak|  Kumar| MTS|       88|       94|  MjFNVFIwMDI=|\n",
            "+--------+------+-------+----+---------+---------+--------------+\n",
            "\n"
          ]
        }
      ]
    },
    {
      "cell_type": "code",
      "source": [
        "lowercase_df=spark.sql(\"SELECT dept,lower(dept) AS lowercase FROM students\")\n",
        "lowercase_df.show()"
      ],
      "metadata": {
        "colab": {
          "base_uri": "https://localhost:8080/"
        },
        "id": "562R1cf6k4vI",
        "outputId": "20f1045c-8a06-4b2b-a830-b2473cf4e7a0"
      },
      "execution_count": null,
      "outputs": [
        {
          "output_type": "stream",
          "name": "stdout",
          "text": [
            "+----+---------+\n",
            "|dept|lowercase|\n",
            "+----+---------+\n",
            "| CSE|      cse|\n",
            "| CSE|      cse|\n",
            "|  AI|       ai|\n",
            "|  IT|       it|\n",
            "| MTS|      mts|\n",
            "+----+---------+\n",
            "\n"
          ]
        }
      ]
    },
    {
      "cell_type": "code",
      "source": [
        "from pyspark.sql.functions import levenshtein\n",
        "l_df = df.withColumn(\"levenshtein_distance\",levenshtein(col(\"f_name\"),(\"l_name\")))\n",
        "l_df.show()"
      ],
      "metadata": {
        "colab": {
          "base_uri": "https://localhost:8080/"
        },
        "id": "p12MjTF7mXe4",
        "outputId": "764d1ca3-627f-45fa-82e4-3333d130454c"
      },
      "execution_count": null,
      "outputs": [
        {
          "output_type": "stream",
          "name": "stdout",
          "text": [
            "+--------+------+-------+----+---------+---------+--------------------+\n",
            "|      ID|f_name| l_name|dept|subject_1|subject_2|levenshtein_distance|\n",
            "+--------+------+-------+----+---------+---------+--------------------+\n",
            "| 21CSR55|sakthi|    vel| CSE|       90|       80|                   6|\n",
            "| 21CSR76| Vetri|vendhan| CSE|       87|       80|                   6|\n",
            "|21ADR072|Dinesh|  Kumar|  AI|       94|       89|                   6|\n",
            "|21ITR005| Rasil|  Risam|  IT|       68|       56|                   3|\n",
            "|21MTR002|Deepak|  Kumar| MTS|       88|       94|                   5|\n",
            "+--------+------+-------+----+---------+---------+--------------------+\n",
            "\n"
          ]
        }
      ]
    },
    {
      "cell_type": "code",
      "source": [],
      "metadata": {
        "colab": {
          "base_uri": "https://localhost:8080/"
        },
        "id": "N-Sb4N-rnW7g",
        "outputId": "75a0459f-4167-44f8-af76-355a1c71718a"
      },
      "execution_count": null,
      "outputs": [
        {
          "output_type": "stream",
          "name": "stdout",
          "text": [
            "+------------+\n",
            "|   full_name|\n",
            "+------------+\n",
            "|   sakthivel|\n",
            "|Vetrivendhan|\n",
            "| DineshKumar|\n",
            "|  RasilRisam|\n",
            "| DeepakKumar|\n",
            "+------------+\n",
            "\n"
          ]
        }
      ]
    },
    {
      "cell_type": "code",
      "source": [
        "from pyspark.sql.functions import instr\n",
        "position_df = df.withColumn(\"position\",instr(col(\"l_name\"),\"Kumar\"))\n",
        "position_df.show()"
      ],
      "metadata": {
        "colab": {
          "base_uri": "https://localhost:8080/"
        },
        "id": "HoIAiwbEm06w",
        "outputId": "7b7d30f1-0f8c-4a28-ec6a-da6ef6fba4c6"
      },
      "execution_count": null,
      "outputs": [
        {
          "output_type": "stream",
          "name": "stdout",
          "text": [
            "+--------+------+-------+----+---------+---------+--------+\n",
            "|      ID|f_name| l_name|dept|subject_1|subject_2|position|\n",
            "+--------+------+-------+----+---------+---------+--------+\n",
            "| 21CSR55|sakthi|    vel| CSE|       90|       80|       0|\n",
            "| 21CSR76| Vetri|vendhan| CSE|       87|       80|       0|\n",
            "|21ADR072|Dinesh|  Kumar|  AI|       94|       89|       1|\n",
            "|21ITR005| Rasil|  Risam|  IT|       68|       56|       0|\n",
            "|21MTR002|Deepak|  Kumar| MTS|       88|       94|       1|\n",
            "+--------+------+-------+----+---------+---------+--------+\n",
            "\n"
          ]
        }
      ]
    },
    {
      "cell_type": "code",
      "source": [
        "from pyspark.sql.functions import concat_ws\n",
        "kdf = df.withColumn(\"details\",concat_ws(\"-\",col(\"f_name\"),col(\"l_name\"),col(\"dept\")))\n",
        "kdf.show()"
      ],
      "metadata": {
        "colab": {
          "base_uri": "https://localhost:8080/"
        },
        "id": "ADPzAn2Nni6H",
        "outputId": "a44e6ea0-fc76-43c2-e716-3766117f8f28"
      },
      "execution_count": null,
      "outputs": [
        {
          "output_type": "stream",
          "name": "stdout",
          "text": [
            "+--------+------+-------+----+---------+---------+-----------------+\n",
            "|      ID|f_name| l_name|dept|subject_1|subject_2|          details|\n",
            "+--------+------+-------+----+---------+---------+-----------------+\n",
            "| 21CSR55|sakthi|    vel| CSE|       90|       80|   sakthi-vel-CSE|\n",
            "| 21CSR76| Vetri|vendhan| CSE|       87|       80|Vetri-vendhan-CSE|\n",
            "|21ADR072|Dinesh|  Kumar|  AI|       94|       89|  Dinesh-Kumar-AI|\n",
            "|21ITR005| Rasil|  Risam|  IT|       68|       56|   Rasil-Risam-IT|\n",
            "|21MTR002|Deepak|  Kumar| MTS|       88|       94| Deepak-Kumar-MTS|\n",
            "+--------+------+-------+----+---------+---------+-----------------+\n",
            "\n"
          ]
        }
      ]
    },
    {
      "cell_type": "code",
      "source": [],
      "metadata": {
        "id": "LrqY5_rfoDgF"
      },
      "execution_count": null,
      "outputs": []
    }
  ]
}