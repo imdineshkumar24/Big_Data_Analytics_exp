{
  "cells": [
    {
      "cell_type": "markdown",
      "metadata": {
        "id": "view-in-github",
        "colab_type": "text"
      },
      "source": [
        "<a href=\"https://colab.research.google.com/github/imdineshkumar24/Big_Data_Analytics_exp/blob/main/BDA_ex_04b.ipynb\" target=\"_parent\"><img src=\"https://colab.research.google.com/assets/colab-badge.svg\" alt=\"Open In Colab\"/></a>"
      ]
    },
    {
      "cell_type": "code",
      "execution_count": null,
      "metadata": {
        "colab": {
          "background_save": true,
          "base_uri": "https://localhost:8080/"
        },
        "id": "wFP5Dp4NML2A",
        "outputId": "b5b01718-4d38-420c-9bdc-0349d87f9cdd"
      },
      "outputs": [
        {
          "name": "stdout",
          "output_type": "stream",
          "text": [
            "\u001b[2K     \u001b[90m━━━━━━━━━━━━━━━━━━━━━━━━━━━━━━━━━━━━━━━\u001b[0m \u001b[32m310.8/310.8 MB\u001b[0m \u001b[31m4.1 MB/s\u001b[0m eta \u001b[36m0:00:00\u001b[0m\n",
            "\u001b[?25h  Preparing metadata (setup.py) ... \u001b[?25l\u001b[?25hdone\n",
            "  Building wheel for pyspark (setup.py) ... \u001b[?25l\u001b[?25hdone\n"
          ]
        }
      ],
      "source": [
        "!pip install -q pyspark"
      ]
    },
    {
      "cell_type": "code",
      "execution_count": null,
      "metadata": {
        "colab": {
          "background_save": true
        },
        "id": "FoxTrQS2MRCp"
      },
      "outputs": [],
      "source": [
        "import pyspark"
      ]
    },
    {
      "cell_type": "code",
      "execution_count": null,
      "metadata": {
        "colab": {
          "background_save": true
        },
        "id": "UeNzRxCrMawm"
      },
      "outputs": [],
      "source": [
        "from pyspark.sql import SparkSession"
      ]
    },
    {
      "cell_type": "code",
      "execution_count": null,
      "metadata": {
        "colab": {
          "background_save": true
        },
        "id": "DqnYWLZaMhkk"
      },
      "outputs": [],
      "source": [
        "spark = SparkSession.builder.appName('Firstprogram').getOrCreate()"
      ]
    },
    {
      "cell_type": "code",
      "execution_count": null,
      "metadata": {
        "colab": {
          "background_save": true
        },
        "id": "0W64qDg3M9A9"
      },
      "outputs": [],
      "source": [
        "data=[[\"18\",'Virat Kohli','IND','RCB',245,46.5],\n",
        "       [\"45\",'Rohit Sharma','IND','MI',237,45.3],\n",
        "       [\"17\",'AB Devliers','SA','RCB',239,47.2],\n",
        "       [\"56\",'Kane Williamson','NZ','GT',228,42.2],\n",
        "       [\"22\",'Steve Smith','AUS','DC',236,45.2],\n",
        "       [\"25\",'David Warner','AUS','DC',256,43.2],\n",
        "       [\"43\",'Nicholas Pooran','WI','SRH',219,36.9],\n",
        "       [\"64\",'Jos Butler','ENG','RR',240,44.4],\n",
        "       [\"58\",'Ben Stokes','ENG','RR',210,40.6],\n",
        "       [\"12\",'KL Rahul','IND','LSG',234,39.6],\n",
        "      [\"07\",'MS Dhoni','IND','CSK',238,44.2],\n",
        "      ['33','Devon Convay','NZ','CSK',243,42.2],\n",
        "      ['24','Marcus stoinis','AUS','LSG',218,'37.6']]"
      ]
    },
    {
      "cell_type": "code",
      "execution_count": null,
      "metadata": {
        "colab": {
          "background_save": true
        },
        "id": "cSImbgRAU0sa"
      },
      "outputs": [],
      "source": [
        "cols=['playerID','playername','country','Team','runs','avg']"
      ]
    },
    {
      "cell_type": "code",
      "execution_count": null,
      "metadata": {
        "colab": {
          "background_save": true
        },
        "id": "JZt39pYeVMuI",
        "outputId": "adda0c81-2876-4855-dbef-abef497ff43d"
      },
      "outputs": [
        {
          "name": "stdout",
          "output_type": "stream",
          "text": [
            "+--------+---------------+-------+----+----+----+\n",
            "|playerID|     playername|country|Team|runs| avg|\n",
            "+--------+---------------+-------+----+----+----+\n",
            "|      18|    Virat Kohli|    IND| RCB| 245|46.5|\n",
            "|      45|   Rohit Sharma|    IND|  MI| 237|45.3|\n",
            "|      17|    AB Devliers|     SA| RCB| 239|47.2|\n",
            "|      56|Kane Williamson|     NZ|  GT| 228|42.2|\n",
            "|      22|    Steve Smith|    AUS|  DC| 236|45.2|\n",
            "|      25|   David Warner|    AUS|  DC| 256|43.2|\n",
            "|      43|Nicholas Pooran|     WI| SRH| 219|36.9|\n",
            "|      64|     Jos Butler|    ENG|  RR| 240|44.4|\n",
            "|      58|     Ben Stokes|    ENG|  RR| 210|40.6|\n",
            "|      12|       KL Rahul|    IND| LSG| 234|39.6|\n",
            "|      07|       MS Dhoni|    IND| CSK| 238|44.2|\n",
            "|      33|   Devon Convay|     NZ| CSK| 243|42.2|\n",
            "|      24| Marcus stoinis|    AUS| LSG| 218|37.6|\n",
            "+--------+---------------+-------+----+----+----+\n",
            "\n"
          ]
        }
      ],
      "source": [
        "df=spark.createDataFrame(data,cols)\n",
        "df.show()"
      ]
    },
    {
      "cell_type": "code",
      "execution_count": null,
      "metadata": {
        "colab": {
          "background_save": true
        },
        "id": "RpcDIK50Va2T",
        "outputId": "497130cf-3abc-435b-ad29-490f496685df"
      },
      "outputs": [
        {
          "name": "stdout",
          "output_type": "stream",
          "text": [
            "root\n",
            " |-- playerID: string (nullable = true)\n",
            " |-- playername: string (nullable = true)\n",
            " |-- country: string (nullable = true)\n",
            " |-- Team: string (nullable = true)\n",
            " |-- runs: long (nullable = true)\n",
            " |-- avg: string (nullable = true)\n",
            "\n"
          ]
        }
      ],
      "source": [
        "df.printSchema()"
      ]
    },
    {
      "cell_type": "code",
      "execution_count": null,
      "metadata": {
        "colab": {
          "background_save": true
        },
        "id": "SrBBvtZ1VuC-",
        "outputId": "efd9f508-2abb-40b5-dcd5-012456c060b7"
      },
      "outputs": [
        {
          "name": "stdout",
          "output_type": "stream",
          "text": [
            "+--------+------------+-------+----+----+----+\n",
            "|playerID|  playername|country|Team|runs| avg|\n",
            "+--------+------------+-------+----+----+----+\n",
            "|      18| Virat Kohli|    IND| RCB| 245|46.5|\n",
            "|      45|Rohit Sharma|    IND|  MI| 237|45.3|\n",
            "+--------+------------+-------+----+----+----+\n",
            "only showing top 2 rows\n",
            "\n"
          ]
        }
      ],
      "source": [
        "df.show(n=2,truncate=25)"
      ]
    },
    {
      "cell_type": "code",
      "execution_count": null,
      "metadata": {
        "colab": {
          "background_save": true
        },
        "id": "zB7wjR53Wnu3",
        "outputId": "40fcdc51-7cbd-496f-d540-f5ff19ae2e57"
      },
      "outputs": [
        {
          "name": "stdout",
          "output_type": "stream",
          "text": [
            "+--------+---------------+-------+----+----+----+\n",
            "|playerID|     playername|country|Team|runs| avg|\n",
            "+--------+---------------+-------+----+----+----+\n",
            "|      18|    Virat Kohli|    IND| RCB| 245|46.5|\n",
            "|      45|   Rohit Sharma|    IND|  MI| 237|45.3|\n",
            "|      17|    AB Devliers|     SA| RCB| 239|47.2|\n",
            "|      56|Kane Williamson|     NZ|  GT| 228|42.2|\n",
            "|      22|    Steve Smith|    AUS|  DC| 236|45.2|\n",
            "|      25|   David Warner|    AUS|  DC| 256|43.2|\n",
            "|      43|Nicholas Pooran|     WI| SRH| 219|36.9|\n",
            "|      64|     Jos Butler|    ENG|  RR| 240|44.4|\n",
            "|      58|     Ben Stokes|    ENG|  RR| 210|40.6|\n",
            "|      12|       KL Rahul|    IND| LSG| 234|39.6|\n",
            "|      07|       MS Dhoni|    IND| CSK| 238|44.2|\n",
            "|      33|   Devon Convay|     NZ| CSK| 243|42.2|\n",
            "|      24| Marcus stoinis|    AUS| LSG| 218|37.6|\n",
            "+--------+---------------+-------+----+----+----+\n",
            "\n"
          ]
        }
      ],
      "source": [
        "df.select(\"*\").show()"
      ]
    },
    {
      "cell_type": "code",
      "execution_count": null,
      "metadata": {
        "colab": {
          "background_save": true
        },
        "id": "BEpxVucQ3zDz",
        "outputId": "f89b9932-fe49-4d0e-8079-42e761a95e77"
      },
      "outputs": [
        {
          "name": "stdout",
          "output_type": "stream",
          "text": [
            "+--------+---------------+-------+----+----+----+\n",
            "|playerID|     playername|country|Team|runs| avg|\n",
            "+--------+---------------+-------+----+----+----+\n",
            "|      18|    Virat Kohli|    IND| RCB| 245|46.5|\n",
            "|      45|   Rohit Sharma|    IND|  MI| 237|45.3|\n",
            "|      17|    AB Devliers|     SA| RCB| 239|47.2|\n",
            "|      56|Kane Williamson|     NZ|  GT| 228|42.2|\n",
            "|      22|    Steve Smith|    AUS|  DC| 236|45.2|\n",
            "|      25|   David Warner|    AUS|  DC| 256|43.2|\n",
            "|      43|Nicholas Pooran|     WI| SRH| 219|36.9|\n",
            "|      64|     Jos Butler|    ENG|  RR| 240|44.4|\n",
            "|      58|     Ben Stokes|    ENG|  RR| 210|40.6|\n",
            "|      12|       KL Rahul|    IND| LSG| 234|39.6|\n",
            "|      07|       MS Dhoni|    IND| CSK| 238|44.2|\n",
            "|      33|   Devon Convay|     NZ| CSK| 243|42.2|\n",
            "|      24| Marcus stoinis|    AUS| LSG| 218|37.6|\n",
            "+--------+---------------+-------+----+----+----+\n",
            "\n"
          ]
        }
      ],
      "source": [
        "df.select(\"*\").show()"
      ]
    },
    {
      "cell_type": "code",
      "execution_count": null,
      "metadata": {
        "colab": {
          "background_save": true
        },
        "id": "WXSuVT0XW5Mm",
        "outputId": "4e54e46f-fb82-43dd-ab66-a5af89cf76d8"
      },
      "outputs": [
        {
          "name": "stdout",
          "output_type": "stream",
          "text": [
            "+---------------+-------+----+\n",
            "|     playername|country|Team|\n",
            "+---------------+-------+----+\n",
            "|    Virat Kohli|    IND| RCB|\n",
            "|   Rohit Sharma|    IND|  MI|\n",
            "|    AB Devliers|     SA| RCB|\n",
            "|Kane Williamson|     NZ|  GT|\n",
            "+---------------+-------+----+\n",
            "only showing top 4 rows\n",
            "\n"
          ]
        }
      ],
      "source": [
        "df.select(df.columns[1:4]).show(4)"
      ]
    },
    {
      "cell_type": "code",
      "execution_count": null,
      "metadata": {
        "colab": {
          "background_save": true
        },
        "id": "UenDIeAqXExH",
        "outputId": "885574b0-0e3a-4038-c342-8e0db65934c6"
      },
      "outputs": [
        {
          "name": "stdout",
          "output_type": "stream",
          "text": [
            "[Row(playerID='18', playername='Virat Kohli', country='IND', Team='RCB', runs=245, avg='46.5'), Row(playerID='45', playername='Rohit Sharma', country='IND', Team='MI', runs=237, avg='45.3'), Row(playerID='17', playername='AB Devliers', country='SA', Team='RCB', runs=239, avg='47.2'), Row(playerID='56', playername='Kane Williamson', country='NZ', Team='GT', runs=228, avg='42.2'), Row(playerID='22', playername='Steve Smith', country='AUS', Team='DC', runs=236, avg='45.2'), Row(playerID='25', playername='David Warner', country='AUS', Team='DC', runs=256, avg='43.2'), Row(playerID='43', playername='Nicholas Pooran', country='WI', Team='SRH', runs=219, avg='36.9'), Row(playerID='64', playername='Jos Butler', country='ENG', Team='RR', runs=240, avg='44.4'), Row(playerID='58', playername='Ben Stokes', country='ENG', Team='RR', runs=210, avg='40.6'), Row(playerID='12', playername='KL Rahul', country='IND', Team='LSG', runs=234, avg='39.6'), Row(playerID='07', playername='MS Dhoni', country='IND', Team='CSK', runs=238, avg='44.2'), Row(playerID='33', playername='Devon Convay', country='NZ', Team='CSK', runs=243, avg='42.2'), Row(playerID='24', playername='Marcus stoinis', country='AUS', Team='LSG', runs=218, avg='37.6')]\n"
          ]
        }
      ],
      "source": [
        "data_cl=df.collect()\n",
        "print(data_cl)"
      ]
    },
    {
      "cell_type": "code",
      "execution_count": null,
      "metadata": {
        "colab": {
          "background_save": true
        },
        "id": "AuasWaRIXWJ7",
        "outputId": "8db5aa43-3c6a-47d7-9f1e-a5988df201f7"
      },
      "outputs": [
        {
          "data": {
            "text/plain": [
              "[Row(playerID='18', playername='Virat Kohli', country='IND', Team='RCB', runs=245, avg='46.5'),\n",
              " Row(playerID='45', playername='Rohit Sharma', country='IND', Team='MI', runs=237, avg='45.3'),\n",
              " Row(playerID='17', playername='AB Devliers', country='SA', Team='RCB', runs=239, avg='47.2'),\n",
              " Row(playerID='56', playername='Kane Williamson', country='NZ', Team='GT', runs=228, avg='42.2'),\n",
              " Row(playerID='22', playername='Steve Smith', country='AUS', Team='DC', runs=236, avg='45.2'),\n",
              " Row(playerID='25', playername='David Warner', country='AUS', Team='DC', runs=256, avg='43.2'),\n",
              " Row(playerID='43', playername='Nicholas Pooran', country='WI', Team='SRH', runs=219, avg='36.9'),\n",
              " Row(playerID='64', playername='Jos Butler', country='ENG', Team='RR', runs=240, avg='44.4'),\n",
              " Row(playerID='58', playername='Ben Stokes', country='ENG', Team='RR', runs=210, avg='40.6'),\n",
              " Row(playerID='12', playername='KL Rahul', country='IND', Team='LSG', runs=234, avg='39.6'),\n",
              " Row(playerID='07', playername='MS Dhoni', country='IND', Team='CSK', runs=238, avg='44.2'),\n",
              " Row(playerID='33', playername='Devon Convay', country='NZ', Team='CSK', runs=243, avg='42.2'),\n",
              " Row(playerID='24', playername='Marcus stoinis', country='AUS', Team='LSG', runs=218, avg='37.6')]"
            ]
          },
          "execution_count": 14,
          "metadata": {},
          "output_type": "execute_result"
        }
      ],
      "source": [
        "df.collect()"
      ]
    },
    {
      "cell_type": "code",
      "execution_count": null,
      "metadata": {
        "colab": {
          "background_save": true
        },
        "id": "hp5BOXuXXa5k",
        "outputId": "79804b58-9782-4faa-f2c4-be91417db5ca"
      },
      "outputs": [
        {
          "name": "stdout",
          "output_type": "stream",
          "text": [
            "+--------+------------+-------+----+----+----+\n",
            "|playerID|playername  |country|Team|runs|avg |\n",
            "+--------+------------+-------+----+----+----+\n",
            "|18      |Virat Kohli |IND    |RCB |245 |46.5|\n",
            "|45      |Rohit Sharma|IND    |MI  |237 |45.3|\n",
            "|12      |KL Rahul    |IND    |LSG |234 |39.6|\n",
            "|07      |MS Dhoni    |IND    |CSK |238 |44.2|\n",
            "+--------+------------+-------+----+----+----+\n",
            "\n"
          ]
        }
      ],
      "source": [
        "df.filter(df.country=='IND').show(truncate=False)"
      ]
    },
    {
      "cell_type": "code",
      "execution_count": null,
      "metadata": {
        "colab": {
          "background_save": true
        },
        "id": "W_tJoVsBYE4W",
        "outputId": "2529b34f-65b5-487c-9f23-b8bc455133fc"
      },
      "outputs": [
        {
          "name": "stdout",
          "output_type": "stream",
          "text": [
            "+--------+---------------+-------+----+----+----+\n",
            "|playerID|playername     |country|Team|runs|avg |\n",
            "+--------+---------------+-------+----+----+----+\n",
            "|17      |AB Devliers    |SA     |RCB |239 |47.2|\n",
            "|56      |Kane Williamson|NZ     |GT  |228 |42.2|\n",
            "|22      |Steve Smith    |AUS    |DC  |236 |45.2|\n",
            "|25      |David Warner   |AUS    |DC  |256 |43.2|\n",
            "|43      |Nicholas Pooran|WI     |SRH |219 |36.9|\n",
            "|64      |Jos Butler     |ENG    |RR  |240 |44.4|\n",
            "|58      |Ben Stokes     |ENG    |RR  |210 |40.6|\n",
            "|33      |Devon Convay   |NZ     |CSK |243 |42.2|\n",
            "|24      |Marcus stoinis |AUS    |LSG |218 |37.6|\n",
            "+--------+---------------+-------+----+----+----+\n",
            "\n"
          ]
        }
      ],
      "source": [
        "df.filter(~(df.country=='IND')).show(truncate=False)"
      ]
    },
    {
      "cell_type": "code",
      "execution_count": null,
      "metadata": {
        "colab": {
          "background_save": true
        },
        "id": "fVNf0E3eYed-",
        "outputId": "ff0d7b07-99d5-43e2-e3a9-6b91d8c43288"
      },
      "outputs": [
        {
          "name": "stdout",
          "output_type": "stream",
          "text": [
            "+--------+---------------+-------+----+----+----+\n",
            "|playerID|playername     |country|Team|runs|avg |\n",
            "+--------+---------------+-------+----+----+----+\n",
            "|17      |AB Devliers    |SA     |RCB |239 |47.2|\n",
            "|56      |Kane Williamson|NZ     |GT  |228 |42.2|\n",
            "|22      |Steve Smith    |AUS    |DC  |236 |45.2|\n",
            "|25      |David Warner   |AUS    |DC  |256 |43.2|\n",
            "|43      |Nicholas Pooran|WI     |SRH |219 |36.9|\n",
            "|64      |Jos Butler     |ENG    |RR  |240 |44.4|\n",
            "|58      |Ben Stokes     |ENG    |RR  |210 |40.6|\n",
            "|33      |Devon Convay   |NZ     |CSK |243 |42.2|\n",
            "|24      |Marcus stoinis |AUS    |LSG |218 |37.6|\n",
            "+--------+---------------+-------+----+----+----+\n",
            "\n"
          ]
        }
      ],
      "source": [
        "df.filter(df.country!='IND').show(truncate=False)"
      ]
    },
    {
      "cell_type": "code",
      "execution_count": null,
      "metadata": {
        "colab": {
          "background_save": true
        },
        "id": "-_DtPhIyYhvF",
        "outputId": "42180124-842b-43fe-eaeb-800b4643f281"
      },
      "outputs": [
        {
          "name": "stdout",
          "output_type": "stream",
          "text": [
            "+--------+---------------+-------+----+----+----+\n",
            "|playerID|playername     |country|Team|runs|avg |\n",
            "+--------+---------------+-------+----+----+----+\n",
            "|17      |AB Devliers    |SA     |RCB |239 |47.2|\n",
            "|56      |Kane Williamson|NZ     |GT  |228 |42.2|\n",
            "|22      |Steve Smith    |AUS    |DC  |236 |45.2|\n",
            "|25      |David Warner   |AUS    |DC  |256 |43.2|\n",
            "|43      |Nicholas Pooran|WI     |SRH |219 |36.9|\n",
            "|64      |Jos Butler     |ENG    |RR  |240 |44.4|\n",
            "|58      |Ben Stokes     |ENG    |RR  |210 |40.6|\n",
            "|33      |Devon Convay   |NZ     |CSK |243 |42.2|\n",
            "|24      |Marcus stoinis |AUS    |LSG |218 |37.6|\n",
            "+--------+---------------+-------+----+----+----+\n",
            "\n"
          ]
        }
      ],
      "source": [
        "df.filter(\"country <> 'IND'\").show(truncate=False)"
      ]
    },
    {
      "cell_type": "code",
      "execution_count": null,
      "metadata": {
        "colab": {
          "background_save": true
        },
        "id": "NHYZCV_5Ymx9",
        "outputId": "dffdc459-50e2-487d-de0e-38e1617fd181"
      },
      "outputs": [
        {
          "name": "stdout",
          "output_type": "stream",
          "text": [
            "+--------+-----------+-------+----+----+----+\n",
            "|playerID| playername|country|Team|runs| avg|\n",
            "+--------+-----------+-------+----+----+----+\n",
            "|      18|Virat Kohli|    IND| RCB| 245|46.5|\n",
            "+--------+-----------+-------+----+----+----+\n",
            "\n"
          ]
        }
      ],
      "source": [
        "df.filter((df.country=='IND')&(df.Team=='RCB')).show()"
      ]
    },
    {
      "cell_type": "code",
      "execution_count": null,
      "metadata": {
        "colab": {
          "background_save": true
        },
        "id": "KSJjS2vIeMxh",
        "outputId": "a33eedb8-e79d-46dc-8625-ccb323501411"
      },
      "outputs": [
        {
          "name": "stdout",
          "output_type": "stream",
          "text": [
            "+--------+------------+-------+----+----+----+\n",
            "|playerID|  playername|country|Team|runs| avg|\n",
            "+--------+------------+-------+----+----+----+\n",
            "|      18| Virat Kohli|    IND| RCB| 245|46.5|\n",
            "|      45|Rohit Sharma|    IND|  MI| 237|45.3|\n",
            "|      17| AB Devliers|     SA| RCB| 239|47.2|\n",
            "|      12|    KL Rahul|    IND| LSG| 234|39.6|\n",
            "|      07|    MS Dhoni|    IND| CSK| 238|44.2|\n",
            "+--------+------------+-------+----+----+----+\n",
            "\n"
          ]
        }
      ],
      "source": [
        "df.filter((df.country=='IND')|(df.Team=='RCB')).show()"
      ]
    },
    {
      "cell_type": "code",
      "execution_count": null,
      "metadata": {
        "colab": {
          "background_save": true
        },
        "id": "2BdiMi_XeWHI",
        "outputId": "da92d545-49d0-4be4-f6ac-23c4a0e193c3"
      },
      "outputs": [
        {
          "name": "stdout",
          "output_type": "stream",
          "text": [
            "+--------+---------------+-------+----+----+----+\n",
            "|playerID|     playername|country|Team|runs| avg|\n",
            "+--------+---------------+-------+----+----+----+\n",
            "|      18|    Virat Kohli|    IND| RCB| 245|46.5|\n",
            "|      45|   Rohit Sharma|    IND|  MI| 237|45.3|\n",
            "|      56|Kane Williamson|     NZ|  GT| 228|42.2|\n",
            "|      64|     Jos Butler|    ENG|  RR| 240|44.4|\n",
            "|      58|     Ben Stokes|    ENG|  RR| 210|40.6|\n",
            "|      12|       KL Rahul|    IND| LSG| 234|39.6|\n",
            "|      07|       MS Dhoni|    IND| CSK| 238|44.2|\n",
            "|      33|   Devon Convay|     NZ| CSK| 243|42.2|\n",
            "+--------+---------------+-------+----+----+----+\n",
            "\n"
          ]
        }
      ],
      "source": [
        "li=['IND','NZ','ENG']\n",
        "df.filter(df.country.isin(li)).show()"
      ]
    },
    {
      "cell_type": "code",
      "execution_count": null,
      "metadata": {
        "colab": {
          "background_save": true
        },
        "id": "2-4DRFEFeryI",
        "outputId": "b3a4a2c0-b6ea-42b3-b06e-e2d038ea063d"
      },
      "outputs": [
        {
          "name": "stdout",
          "output_type": "stream",
          "text": [
            "+--------+---------------+-------+----+----+----+\n",
            "|playerID|     playername|country|Team|runs| avg|\n",
            "+--------+---------------+-------+----+----+----+\n",
            "|      45|   Rohit Sharma|    IND|  MI| 237|45.3|\n",
            "|      56|Kane Williamson|     NZ|  GT| 228|42.2|\n",
            "|      22|    Steve Smith|    AUS|  DC| 236|45.2|\n",
            "|      25|   David Warner|    AUS|  DC| 256|43.2|\n",
            "|      43|Nicholas Pooran|     WI| SRH| 219|36.9|\n",
            "|      64|     Jos Butler|    ENG|  RR| 240|44.4|\n",
            "|      58|     Ben Stokes|    ENG|  RR| 210|40.6|\n",
            "|      12|       KL Rahul|    IND| LSG| 234|39.6|\n",
            "|      24| Marcus stoinis|    AUS| LSG| 218|37.6|\n",
            "+--------+---------------+-------+----+----+----+\n",
            "\n"
          ]
        }
      ],
      "source": [
        "l2=['CSK','RCB']\n",
        "df.filter(~df.Team.isin(l2)).show()"
      ]
    },
    {
      "cell_type": "code",
      "execution_count": null,
      "metadata": {
        "colab": {
          "background_save": true
        },
        "id": "0EFqIIqafH2X",
        "outputId": "4820e4dd-004c-40f4-df1c-dffa1972f325"
      },
      "outputs": [
        {
          "name": "stdout",
          "output_type": "stream",
          "text": [
            "+--------+------------+-------+----+----+----+\n",
            "|playerID|  playername|country|Team|runs| avg|\n",
            "+--------+------------+-------+----+----+----+\n",
            "|      18| Virat Kohli|    IND| RCB| 245|46.5|\n",
            "|      45|Rohit Sharma|    IND|  MI| 237|45.3|\n",
            "|      12|    KL Rahul|    IND| LSG| 234|39.6|\n",
            "|      07|    MS Dhoni|    IND| CSK| 238|44.2|\n",
            "+--------+------------+-------+----+----+----+\n",
            "\n"
          ]
        }
      ],
      "source": [
        "df.filter(df.country.startswith(\"I\")).show()"
      ]
    },
    {
      "cell_type": "code",
      "execution_count": null,
      "metadata": {
        "colab": {
          "background_save": true
        },
        "id": "rm1BJrwafe_I",
        "outputId": "d10fd632-d1c2-47ad-bae3-f8548b1dfc46"
      },
      "outputs": [
        {
          "name": "stdout",
          "output_type": "stream",
          "text": [
            "+--------+--------------+-------+----+----+----+\n",
            "|playerID|    playername|country|Team|runs| avg|\n",
            "+--------+--------------+-------+----+----+----+\n",
            "|      22|   Steve Smith|    AUS|  DC| 236|45.2|\n",
            "|      25|  David Warner|    AUS|  DC| 256|43.2|\n",
            "|      24|Marcus stoinis|    AUS| LSG| 218|37.6|\n",
            "+--------+--------------+-------+----+----+----+\n",
            "\n"
          ]
        }
      ],
      "source": [
        "df.filter(df.country.endswith(\"S\")).show()"
      ]
    },
    {
      "cell_type": "code",
      "execution_count": null,
      "metadata": {
        "colab": {
          "background_save": true
        },
        "id": "jj001x22fwR3",
        "outputId": "366ccba6-6948-4e54-d684-49cabe6ac1a7"
      },
      "outputs": [
        {
          "name": "stdout",
          "output_type": "stream",
          "text": [
            "+--------+---------------+-------+----+----+----+\n",
            "|playerID|     playername|country|Team|runs| avg|\n",
            "+--------+---------------+-------+----+----+----+\n",
            "|      17|    AB Devliers|     SA| RCB| 239|47.2|\n",
            "|      56|Kane Williamson|     NZ|  GT| 228|42.2|\n",
            "|      22|    Steve Smith|    AUS|  DC| 236|45.2|\n",
            "|      25|   David Warner|    AUS|  DC| 256|43.2|\n",
            "|      64|     Jos Butler|    ENG|  RR| 240|44.4|\n",
            "|      58|     Ben Stokes|    ENG|  RR| 210|40.6|\n",
            "|      33|   Devon Convay|     NZ| CSK| 243|42.2|\n",
            "+--------+---------------+-------+----+----+----+\n",
            "\n"
          ]
        }
      ],
      "source": [
        "df.filter(df.playername.contains(\"e\")).show()"
      ]
    },
    {
      "cell_type": "code",
      "execution_count": null,
      "metadata": {
        "colab": {
          "background_save": true
        },
        "id": "ZnkTz5qZf_qf",
        "outputId": "d739b88e-b066-451a-904b-aae994ce09b9"
      },
      "outputs": [
        {
          "name": "stdout",
          "output_type": "stream",
          "text": [
            "+--------+------------+-------+----+----+----+\n",
            "|playerID|  playername|country|Team|runs| avg|\n",
            "+--------+------------+-------+----+----+----+\n",
            "|      17| AB Devliers|     SA| RCB| 239|47.2|\n",
            "|      25|David Warner|    AUS|  DC| 256|43.2|\n",
            "|      64|  Jos Butler|    ENG|  RR| 240|44.4|\n",
            "+--------+------------+-------+----+----+----+\n",
            "\n"
          ]
        }
      ],
      "source": [
        "df.filter(df.playername.like(\"%er%\")).show()"
      ]
    },
    {
      "cell_type": "code",
      "execution_count": null,
      "metadata": {
        "colab": {
          "background_save": true
        },
        "id": "VbzDTH6DgcQu",
        "outputId": "06c22b5b-1ed5-4bce-dcf2-376808c5f1f8"
      },
      "outputs": [
        {
          "name": "stdout",
          "output_type": "stream",
          "text": [
            "+--------+---------------+-------+----+----+----+\n",
            "|playerID|playername     |country|Team|runs|avg |\n",
            "+--------+---------------+-------+----+----+----+\n",
            "|24      |Marcus stoinis |AUS    |LSG |218 |37.6|\n",
            "|22      |Steve Smith    |AUS    |DC  |236 |45.2|\n",
            "|25      |David Warner   |AUS    |DC  |256 |43.2|\n",
            "|64      |Jos Butler     |ENG    |RR  |240 |44.4|\n",
            "|58      |Ben Stokes     |ENG    |RR  |210 |40.6|\n",
            "|18      |Virat Kohli    |IND    |RCB |245 |46.5|\n",
            "|12      |KL Rahul       |IND    |LSG |234 |39.6|\n",
            "|45      |Rohit Sharma   |IND    |MI  |237 |45.3|\n",
            "|07      |MS Dhoni       |IND    |CSK |238 |44.2|\n",
            "|56      |Kane Williamson|NZ     |GT  |228 |42.2|\n",
            "|33      |Devon Convay   |NZ     |CSK |243 |42.2|\n",
            "|17      |AB Devliers    |SA     |RCB |239 |47.2|\n",
            "|43      |Nicholas Pooran|WI     |SRH |219 |36.9|\n",
            "+--------+---------------+-------+----+----+----+\n",
            "\n"
          ]
        }
      ],
      "source": [
        "df.sort('country').show(truncate=False)"
      ]
    },
    {
      "cell_type": "code",
      "execution_count": null,
      "metadata": {
        "colab": {
          "background_save": true
        },
        "id": "WjwQVEa1P_3a",
        "outputId": "6ec816cd-be4b-46e9-9595-82fb47bb8710"
      },
      "outputs": [
        {
          "name": "stdout",
          "output_type": "stream",
          "text": [
            "+--------+---------------+-------+----+----+----+\n",
            "|playerID|playername     |country|Team|runs|avg |\n",
            "+--------+---------------+-------+----+----+----+\n",
            "|22      |Steve Smith    |AUS    |DC  |236 |45.2|\n",
            "|25      |David Warner   |AUS    |DC  |256 |43.2|\n",
            "|24      |Marcus stoinis |AUS    |LSG |218 |37.6|\n",
            "|64      |Jos Butler     |ENG    |RR  |240 |44.4|\n",
            "|58      |Ben Stokes     |ENG    |RR  |210 |40.6|\n",
            "|07      |MS Dhoni       |IND    |CSK |238 |44.2|\n",
            "|12      |KL Rahul       |IND    |LSG |234 |39.6|\n",
            "|45      |Rohit Sharma   |IND    |MI  |237 |45.3|\n",
            "|18      |Virat Kohli    |IND    |RCB |245 |46.5|\n",
            "|33      |Devon Convay   |NZ     |CSK |243 |42.2|\n",
            "|56      |Kane Williamson|NZ     |GT  |228 |42.2|\n",
            "|17      |AB Devliers    |SA     |RCB |239 |47.2|\n",
            "|43      |Nicholas Pooran|WI     |SRH |219 |36.9|\n",
            "+--------+---------------+-------+----+----+----+\n",
            "\n"
          ]
        }
      ],
      "source": [
        "df.sort('country','Team').show(truncate=False)"
      ]
    },
    {
      "cell_type": "code",
      "execution_count": null,
      "metadata": {
        "colab": {
          "background_save": true
        },
        "id": "siOoHe1AQmXo",
        "outputId": "0deb3745-8fe2-43a2-e01f-7bfc9e6fc1ba"
      },
      "outputs": [
        {
          "name": "stdout",
          "output_type": "stream",
          "text": [
            "+--------+---------------+-------+----+----+----+\n",
            "|playerID|playername     |country|Team|runs|avg |\n",
            "+--------+---------------+-------+----+----+----+\n",
            "|22      |Steve Smith    |AUS    |DC  |236 |45.2|\n",
            "|25      |David Warner   |AUS    |DC  |256 |43.2|\n",
            "|24      |Marcus stoinis |AUS    |LSG |218 |37.6|\n",
            "|64      |Jos Butler     |ENG    |RR  |240 |44.4|\n",
            "|58      |Ben Stokes     |ENG    |RR  |210 |40.6|\n",
            "|07      |MS Dhoni       |IND    |CSK |238 |44.2|\n",
            "|12      |KL Rahul       |IND    |LSG |234 |39.6|\n",
            "|45      |Rohit Sharma   |IND    |MI  |237 |45.3|\n",
            "|18      |Virat Kohli    |IND    |RCB |245 |46.5|\n",
            "|33      |Devon Convay   |NZ     |CSK |243 |42.2|\n",
            "|56      |Kane Williamson|NZ     |GT  |228 |42.2|\n",
            "|17      |AB Devliers    |SA     |RCB |239 |47.2|\n",
            "|43      |Nicholas Pooran|WI     |SRH |219 |36.9|\n",
            "+--------+---------------+-------+----+----+----+\n",
            "\n"
          ]
        }
      ],
      "source": [
        "df.orderBy('country','Team').show(truncate=False)"
      ]
    },
    {
      "cell_type": "code",
      "execution_count": null,
      "metadata": {
        "colab": {
          "background_save": true
        },
        "id": "iNk_UmcBQsNg",
        "outputId": "2f1fd38f-667f-4eb4-d6c7-906b185f002a"
      },
      "outputs": [
        {
          "name": "stdout",
          "output_type": "stream",
          "text": [
            "+--------+---------------+-------+----+----+----+\n",
            "|playerID|playername     |country|Team|runs|avg |\n",
            "+--------+---------------+-------+----+----+----+\n",
            "|22      |Steve Smith    |AUS    |DC  |236 |45.2|\n",
            "|25      |David Warner   |AUS    |DC  |256 |43.2|\n",
            "|24      |Marcus stoinis |AUS    |LSG |218 |37.6|\n",
            "|64      |Jos Butler     |ENG    |RR  |240 |44.4|\n",
            "|58      |Ben Stokes     |ENG    |RR  |210 |40.6|\n",
            "|07      |MS Dhoni       |IND    |CSK |238 |44.2|\n",
            "|12      |KL Rahul       |IND    |LSG |234 |39.6|\n",
            "|45      |Rohit Sharma   |IND    |MI  |237 |45.3|\n",
            "|18      |Virat Kohli    |IND    |RCB |245 |46.5|\n",
            "|33      |Devon Convay   |NZ     |CSK |243 |42.2|\n",
            "|56      |Kane Williamson|NZ     |GT  |228 |42.2|\n",
            "|17      |AB Devliers    |SA     |RCB |239 |47.2|\n",
            "|43      |Nicholas Pooran|WI     |SRH |219 |36.9|\n",
            "+--------+---------------+-------+----+----+----+\n",
            "\n"
          ]
        }
      ],
      "source": [
        "df.sort(df.country.asc(),df.Team.asc()).show(truncate=False)"
      ]
    },
    {
      "cell_type": "code",
      "execution_count": null,
      "metadata": {
        "colab": {
          "background_save": true
        },
        "id": "t95jWVnkQyTo",
        "outputId": "b9f4943e-e9b2-4a57-8f29-487abee898b8"
      },
      "outputs": [
        {
          "name": "stdout",
          "output_type": "stream",
          "text": [
            "+--------+---------------+-------+----+----+----+\n",
            "|playerID|playername     |country|Team|runs|avg |\n",
            "+--------+---------------+-------+----+----+----+\n",
            "|24      |Marcus stoinis |AUS    |LSG |218 |37.6|\n",
            "|22      |Steve Smith    |AUS    |DC  |236 |45.2|\n",
            "|25      |David Warner   |AUS    |DC  |256 |43.2|\n",
            "|64      |Jos Butler     |ENG    |RR  |240 |44.4|\n",
            "|58      |Ben Stokes     |ENG    |RR  |210 |40.6|\n",
            "|18      |Virat Kohli    |IND    |RCB |245 |46.5|\n",
            "|45      |Rohit Sharma   |IND    |MI  |237 |45.3|\n",
            "|12      |KL Rahul       |IND    |LSG |234 |39.6|\n",
            "|07      |MS Dhoni       |IND    |CSK |238 |44.2|\n",
            "|56      |Kane Williamson|NZ     |GT  |228 |42.2|\n",
            "|33      |Devon Convay   |NZ     |CSK |243 |42.2|\n",
            "|17      |AB Devliers    |SA     |RCB |239 |47.2|\n",
            "|43      |Nicholas Pooran|WI     |SRH |219 |36.9|\n",
            "+--------+---------------+-------+----+----+----+\n",
            "\n"
          ]
        }
      ],
      "source": [
        "df.sort(df.country.asc(),df.Team.desc()).show(truncate=False)"
      ]
    },
    {
      "cell_type": "code",
      "execution_count": null,
      "metadata": {
        "colab": {
          "background_save": true
        },
        "id": "W9dR4kFYQ0qR"
      },
      "outputs": [],
      "source": [
        "schema=['playerID','playername','country','Team','runs','avg']\n",
        "df = spark.createDataFrame(data=data,schema=schema)"
      ]
    },
    {
      "cell_type": "code",
      "execution_count": null,
      "metadata": {
        "colab": {
          "background_save": true
        },
        "id": "RQ74Q1Q_RIfp",
        "outputId": "212b3369-7cef-41ee-e778-d78edd48b4ac"
      },
      "outputs": [
        {
          "name": "stdout",
          "output_type": "stream",
          "text": [
            "root\n",
            " |-- playerID: string (nullable = true)\n",
            " |-- playername: string (nullable = true)\n",
            " |-- country: string (nullable = true)\n",
            " |-- Team: string (nullable = true)\n",
            " |-- runs: long (nullable = true)\n",
            " |-- avg: string (nullable = true)\n",
            "\n",
            "+--------+---------------+-------+----+----+----+\n",
            "|playerID|playername     |country|Team|runs|avg |\n",
            "+--------+---------------+-------+----+----+----+\n",
            "|18      |Virat Kohli    |IND    |RCB |245 |46.5|\n",
            "|45      |Rohit Sharma   |IND    |MI  |237 |45.3|\n",
            "|17      |AB Devliers    |SA     |RCB |239 |47.2|\n",
            "|56      |Kane Williamson|NZ     |GT  |228 |42.2|\n",
            "|22      |Steve Smith    |AUS    |DC  |236 |45.2|\n",
            "|25      |David Warner   |AUS    |DC  |256 |43.2|\n",
            "|43      |Nicholas Pooran|WI     |SRH |219 |36.9|\n",
            "|64      |Jos Butler     |ENG    |RR  |240 |44.4|\n",
            "|58      |Ben Stokes     |ENG    |RR  |210 |40.6|\n",
            "|12      |KL Rahul       |IND    |LSG |234 |39.6|\n",
            "|07      |MS Dhoni       |IND    |CSK |238 |44.2|\n",
            "|33      |Devon Convay   |NZ     |CSK |243 |42.2|\n",
            "|24      |Marcus stoinis |AUS    |LSG |218 |37.6|\n",
            "+--------+---------------+-------+----+----+----+\n",
            "\n"
          ]
        }
      ],
      "source": [
        "df.printSchema()\n",
        "df.show(truncate=False)"
      ]
    },
    {
      "cell_type": "code",
      "execution_count": null,
      "metadata": {
        "colab": {
          "background_save": true
        },
        "id": "sVvT0AUwRK0w",
        "outputId": "65da9c47-d8c5-4ea3-ba47-e0498ca4778d"
      },
      "outputs": [
        {
          "name": "stdout",
          "output_type": "stream",
          "text": [
            "+-------+---------+\n",
            "|country|sum(runs)|\n",
            "+-------+---------+\n",
            "|AUS    |710      |\n",
            "|SA     |239      |\n",
            "|NZ     |471      |\n",
            "|IND    |954      |\n",
            "|WI     |219      |\n",
            "|ENG    |450      |\n",
            "+-------+---------+\n",
            "\n"
          ]
        }
      ],
      "source": [
        "df.groupBy(\"country\").sum(\"runs\").show(truncate=False)"
      ]
    },
    {
      "cell_type": "code",
      "execution_count": null,
      "metadata": {
        "colab": {
          "background_save": true
        },
        "id": "Q1W525W-RRr4",
        "outputId": "3e26a55e-b568-4ad7-a4a7-38516d71a333"
      },
      "outputs": [
        {
          "name": "stdout",
          "output_type": "stream",
          "text": [
            "+-------+-----+\n",
            "|country|count|\n",
            "+-------+-----+\n",
            "|AUS    |3    |\n",
            "|SA     |1    |\n",
            "|NZ     |2    |\n",
            "|IND    |4    |\n",
            "|WI     |1    |\n",
            "|ENG    |2    |\n",
            "+-------+-----+\n",
            "\n"
          ]
        }
      ],
      "source": [
        "df.groupBy(\"country\").count().show(truncate=False)"
      ]
    },
    {
      "cell_type": "code",
      "execution_count": null,
      "metadata": {
        "colab": {
          "background_save": true
        },
        "id": "J7K8ixNPRabJ",
        "outputId": "8a95c1be-bd35-4693-d828-4684f4abbee9"
      },
      "outputs": [
        {
          "name": "stdout",
          "output_type": "stream",
          "text": [
            "+-------+---------+\n",
            "|country|min(runs)|\n",
            "+-------+---------+\n",
            "|    AUS|      218|\n",
            "|     SA|      239|\n",
            "|     NZ|      228|\n",
            "|    IND|      234|\n",
            "|     WI|      219|\n",
            "|    ENG|      210|\n",
            "+-------+---------+\n",
            "\n"
          ]
        }
      ],
      "source": [
        "df.groupBy(\"country\").min(\"runs\").show()"
      ]
    },
    {
      "cell_type": "code",
      "execution_count": null,
      "metadata": {
        "colab": {
          "background_save": true
        },
        "id": "NH8yTrcXRl6i",
        "outputId": "055bb833-deda-4416-d3fb-8757c3a4d1b7"
      },
      "outputs": [
        {
          "name": "stdout",
          "output_type": "stream",
          "text": [
            "+-------+---------+\n",
            "|country|max(runs)|\n",
            "+-------+---------+\n",
            "|    AUS|      256|\n",
            "|     SA|      239|\n",
            "|     NZ|      243|\n",
            "|    IND|      245|\n",
            "|     WI|      219|\n",
            "|    ENG|      240|\n",
            "+-------+---------+\n",
            "\n"
          ]
        }
      ],
      "source": [
        "df.groupBy(\"country\").max(\"runs\").show()"
      ]
    },
    {
      "cell_type": "code",
      "execution_count": null,
      "metadata": {
        "colab": {
          "background_save": true
        },
        "id": "O6_eZxOBRp44",
        "outputId": "018fa1d9-9c77-445d-8497-457fd7c1c806"
      },
      "outputs": [
        {
          "name": "stdout",
          "output_type": "stream",
          "text": [
            "+-------+------------------+\n",
            "|country|         avg(runs)|\n",
            "+-------+------------------+\n",
            "|    AUS|236.66666666666666|\n",
            "|     SA|             239.0|\n",
            "|     NZ|             235.5|\n",
            "|    IND|             238.5|\n",
            "|     WI|             219.0|\n",
            "|    ENG|             225.0|\n",
            "+-------+------------------+\n",
            "\n"
          ]
        }
      ],
      "source": [
        "df.groupBy(\"country\").avg(\"runs\").show()"
      ]
    },
    {
      "cell_type": "code",
      "execution_count": null,
      "metadata": {
        "colab": {
          "background_save": true
        },
        "id": "bks51TjNR0Ng",
        "outputId": "26905297-390e-41e4-f981-d8fe2213b5ab"
      },
      "outputs": [
        {
          "name": "stdout",
          "output_type": "stream",
          "text": [
            "+-------+------------------+\n",
            "|country|         avg(runs)|\n",
            "+-------+------------------+\n",
            "|    AUS|236.66666666666666|\n",
            "|     SA|             239.0|\n",
            "|     NZ|             235.5|\n",
            "|    IND|             238.5|\n",
            "|     WI|             219.0|\n",
            "|    ENG|             225.0|\n",
            "+-------+------------------+\n",
            "\n"
          ]
        }
      ],
      "source": [
        "df.groupBy(\"country\").mean(\"runs\").show()"
      ]
    },
    {
      "cell_type": "code",
      "execution_count": null,
      "metadata": {
        "colab": {
          "background_save": true
        },
        "id": "cU37iRBCR6z_",
        "outputId": "e4c0d062-bbf8-4452-e656-70893011b3cd"
      },
      "outputs": [
        {
          "name": "stdout",
          "output_type": "stream",
          "text": [
            "+-------+----+---------+\n",
            "|country|Team|sum(runs)|\n",
            "+-------+----+---------+\n",
            "|    IND| RCB|      245|\n",
            "|     SA| RCB|      239|\n",
            "|     NZ|  GT|      228|\n",
            "|    AUS|  DC|      492|\n",
            "|    IND|  MI|      237|\n",
            "|     WI| SRH|      219|\n",
            "|    ENG|  RR|      450|\n",
            "|    AUS| LSG|      218|\n",
            "|    IND| CSK|      238|\n",
            "|     NZ| CSK|      243|\n",
            "|    IND| LSG|      234|\n",
            "+-------+----+---------+\n",
            "\n"
          ]
        }
      ],
      "source": [
        "df.groupBy(\"country\",'Team').sum(\"runs\").show()"
      ]
    },
    {
      "cell_type": "code",
      "execution_count": null,
      "metadata": {
        "colab": {
          "background_save": true
        },
        "id": "NGwflmzfSD-g",
        "outputId": "ce808da4-4723-48d6-dec0-7d07541653c9"
      },
      "outputs": [
        {
          "name": "stdout",
          "output_type": "stream",
          "text": [
            "+-------+---------+\n",
            "|country|sum(runs)|\n",
            "+-------+---------+\n",
            "|    AUS|      710|\n",
            "|     SA|      239|\n",
            "|     NZ|      471|\n",
            "|    IND|      954|\n",
            "|     WI|      219|\n",
            "|    ENG|      450|\n",
            "+-------+---------+\n",
            "\n"
          ]
        }
      ],
      "source": [
        "from pyspark.sql.functions import sum,avg,max,col\n",
        "df.groupBy(\"country\").agg(sum(\"runs\")).show()"
      ]
    },
    {
      "cell_type": "code",
      "execution_count": null,
      "metadata": {
        "colab": {
          "background_save": true
        },
        "id": "P6wzPlo4SM73",
        "outputId": "c7becb0f-a4f0-44e4-92db-c7daafb5fc7c"
      },
      "outputs": [
        {
          "name": "stdout",
          "output_type": "stream",
          "text": [
            "+-------+--------+------------------+------------------+\n",
            "|country|sum_runs|avg_runs          |avg_average       |\n",
            "+-------+--------+------------------+------------------+\n",
            "|AUS    |710     |236.66666666666666|126.0             |\n",
            "|SA     |239     |239.0             |47.2              |\n",
            "|NZ     |471     |235.5             |84.4              |\n",
            "|IND    |954     |238.5             |175.60000000000002|\n",
            "|WI     |219     |219.0             |36.9              |\n",
            "|ENG    |450     |225.0             |85.0              |\n",
            "+-------+--------+------------------+------------------+\n",
            "\n"
          ]
        }
      ],
      "source": [
        "df.groupBy(\"country\").agg(\n",
        "    sum(\"runs\").alias('sum_runs'),\n",
        "    avg(\"runs\").alias('avg_runs'),\n",
        "    sum(\"avg\").alias('avg_average')\n",
        ").show(truncate=False)"
      ]
    },
    {
      "cell_type": "code",
      "execution_count": null,
      "metadata": {
        "colab": {
          "background_save": true
        },
        "id": "ZDVIcg-6TFDg",
        "outputId": "93258902-e2b2-4103-b3b9-ef9543dab34b"
      },
      "outputs": [
        {
          "name": "stdout",
          "output_type": "stream",
          "text": [
            "+-------+--------+------------------+------------------+\n",
            "|country|sum_runs|avg_runs          |avg_average       |\n",
            "+-------+--------+------------------+------------------+\n",
            "|AUS    |710     |236.66666666666666|126.0             |\n",
            "|SA     |239     |239.0             |47.2              |\n",
            "|IND    |954     |238.5             |175.60000000000002|\n",
            "+-------+--------+------------------+------------------+\n",
            "\n"
          ]
        }
      ],
      "source": [
        "df.groupBy(\"country\").agg(\n",
        "    sum(\"runs\").alias('sum_runs'),\n",
        "    avg(\"runs\").alias('avg_runs'),\n",
        "    sum(\"avg\").alias('avg_average')\n",
        ").where(col(\"avg_runs\")>=236).show(truncate=False)"
      ]
    },
    {
      "cell_type": "code",
      "execution_count": null,
      "metadata": {
        "colab": {
          "background_save": true
        },
        "id": "-UUZT1meT4QH",
        "outputId": "cb897196-d358-4b78-8000-2ae0b7516a81"
      },
      "outputs": [
        {
          "name": "stdout",
          "output_type": "stream",
          "text": [
            "+--------+---------------+-------+----+----+----+\n",
            "|playerID|     playername|country|Team|runs| avg|\n",
            "+--------+---------------+-------+----+----+----+\n",
            "|      18|    Virat Kohli|    IND| RCB| 245|46.5|\n",
            "|      45|   Rohit Sharma|    IND|  MI| 237|45.3|\n",
            "|      17|    AB Devliers|     SA| RCB| 239|47.2|\n",
            "|      56|Kane Williamson|     NZ|  GT| 228|42.2|\n",
            "|      22|    Steve Smith|    AUS|  DC| 236|45.2|\n",
            "|      25|   David Warner|    AUS|  DC| 256|43.2|\n",
            "|      43|Nicholas Pooran|     WI| SRH| 219|36.9|\n",
            "|      64|     Jos Butler|    ENG|  RR| 240|44.4|\n",
            "|      58|     Ben Stokes|    ENG|  RR| 210|40.6|\n",
            "|      12|       KL Rahul|    IND| LSG| 234|39.6|\n",
            "|      07|       MS Dhoni|    IND| CSK| 238|44.2|\n",
            "|      33|   Devon Convay|     NZ| CSK| 243|42.2|\n",
            "|      24| Marcus stoinis|    AUS| LSG| 218|37.6|\n",
            "+--------+---------------+-------+----+----+----+\n",
            "\n",
            "+---------+\n",
            "|max(runs)|\n",
            "+---------+\n",
            "|256      |\n",
            "+---------+\n",
            "\n"
          ]
        }
      ],
      "source": [
        "df.show()\n",
        "df.select(max(\"runs\")).show(truncate=False)"
      ]
    },
    {
      "cell_type": "code",
      "execution_count": null,
      "metadata": {
        "colab": {
          "background_save": true
        },
        "id": "qHgccIuBUUTn",
        "outputId": "145d4f7d-a00c-42a0-f1eb-cd49597e98f9"
      },
      "outputs": [
        {
          "name": "stdout",
          "output_type": "stream",
          "text": [
            "+---------+\n",
            "|sum(runs)|\n",
            "+---------+\n",
            "|3043     |\n",
            "+---------+\n",
            "\n"
          ]
        }
      ],
      "source": [
        "df.select(sum(\"runs\")).show(truncate=False)"
      ]
    },
    {
      "cell_type": "code",
      "execution_count": null,
      "metadata": {
        "colab": {
          "background_save": true
        },
        "id": "cUa3bq_KUfR_",
        "outputId": "4faca639-e311-4565-f454-05227f4dbd0b"
      },
      "outputs": [
        {
          "name": "stdout",
          "output_type": "stream",
          "text": [
            "+--------+---------+\n",
            "|max(avg)|max(runs)|\n",
            "+--------+---------+\n",
            "|    47.2|      256|\n",
            "+--------+---------+\n",
            "\n"
          ]
        }
      ],
      "source": [
        "df.agg({'runs':'max','avg':'max'}).show()"
      ]
    },
    {
      "cell_type": "code",
      "execution_count": null,
      "metadata": {
        "colab": {
          "background_save": true
        },
        "id": "1fN-enBWU2Yv"
      },
      "outputs": [],
      "source": []
    }
  ],
  "metadata": {
    "colab": {
      "provenance": [],
      "authorship_tag": "ABX9TyO6jN7CCFepjKO39ncEIEKi",
      "include_colab_link": true
    },
    "kernelspec": {
      "display_name": "Python 3",
      "name": "python3"
    },
    "language_info": {
      "name": "python"
    }
  },
  "nbformat": 4,
  "nbformat_minor": 0
}
