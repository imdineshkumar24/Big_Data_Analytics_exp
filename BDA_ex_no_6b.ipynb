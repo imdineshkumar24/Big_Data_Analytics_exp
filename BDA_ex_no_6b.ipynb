{
  "nbformat": 4,
  "nbformat_minor": 0,
  "metadata": {
    "colab": {
      "provenance": [],
      "authorship_tag": "ABX9TyORKTi4ZKFedQS2wmHr1ePP",
      "include_colab_link": true
    },
    "kernelspec": {
      "name": "python3",
      "display_name": "Python 3"
    },
    "language_info": {
      "name": "python"
    }
  },
  "cells": [
    {
      "cell_type": "markdown",
      "metadata": {
        "id": "view-in-github",
        "colab_type": "text"
      },
      "source": [
        "<a href=\"https://colab.research.google.com/github/imdineshkumar24/Big_Data_Analytics_exp/blob/main/BDA_ex_no_6b.ipynb\" target=\"_parent\"><img src=\"https://colab.research.google.com/assets/colab-badge.svg\" alt=\"Open In Colab\"/></a>"
      ]
    },
    {
      "cell_type": "code",
      "execution_count": null,
      "metadata": {
        "colab": {
          "base_uri": "https://localhost:8080/"
        },
        "id": "FxTXqBTT1_YH",
        "outputId": "f5718061-e926-4802-a746-c0def8488150"
      },
      "outputs": [
        {
          "output_type": "stream",
          "name": "stdout",
          "text": [
            "Collecting pyspark\n",
            "  Downloading pyspark-3.5.0.tar.gz (316.9 MB)\n",
            "\u001b[2K     \u001b[90m━━━━━━━━━━━━━━━━━━━━━━━━━━━━━━━━━━━━━━━\u001b[0m \u001b[32m316.9/316.9 MB\u001b[0m \u001b[31m4.0 MB/s\u001b[0m eta \u001b[36m0:00:00\u001b[0m\n",
            "\u001b[?25h  Preparing metadata (setup.py) ... \u001b[?25l\u001b[?25hdone\n",
            "Requirement already satisfied: py4j==0.10.9.7 in /usr/local/lib/python3.10/dist-packages (from pyspark) (0.10.9.7)\n",
            "Building wheels for collected packages: pyspark\n",
            "  Building wheel for pyspark (setup.py) ... \u001b[?25l\u001b[?25hdone\n",
            "  Created wheel for pyspark: filename=pyspark-3.5.0-py2.py3-none-any.whl size=317425344 sha256=62a29c1530758e690cc50ada0958f43a40791de8e114df050a96f64ec9f31a91\n",
            "  Stored in directory: /root/.cache/pip/wheels/41/4e/10/c2cf2467f71c678cfc8a6b9ac9241e5e44a01940da8fbb17fc\n",
            "Successfully built pyspark\n",
            "Installing collected packages: pyspark\n",
            "Successfully installed pyspark-3.5.0\n"
          ]
        }
      ],
      "source": [
        "!pip install pyspark"
      ]
    },
    {
      "cell_type": "code",
      "source": [
        "from pyspark.sql import SparkSession\n",
        "spark = SparkSession.builder.master(\"local[1]\").appName(\"PySpark_Date_Tim_Example\").getOrCreate()"
      ],
      "metadata": {
        "id": "BO9GPTaa2IPl"
      },
      "execution_count": null,
      "outputs": []
    },
    {
      "cell_type": "code",
      "source": [
        "from pyspark.sql.functions import *\n",
        "data=[[\"1\",\"2004-05-17\"],[\"2\",\"2003-09-22\"],[\"3\",\"2013-02-25\"]]\n",
        "df=spark.createDataFrame(data,[\"sno\",\"dob\"])"
      ],
      "metadata": {
        "id": "eKw2wz3z2Pgj"
      },
      "execution_count": null,
      "outputs": []
    },
    {
      "cell_type": "code",
      "source": [
        "df.select(current_date().alias(\"current_date\")).show(1)"
      ],
      "metadata": {
        "colab": {
          "base_uri": "https://localhost:8080/"
        },
        "id": "BCJxSSSc3TNx",
        "outputId": "edc9ba77-80f4-4e47-89dc-c12d35548924"
      },
      "execution_count": null,
      "outputs": [
        {
          "output_type": "stream",
          "name": "stdout",
          "text": [
            "+------------+\n",
            "|current_date|\n",
            "+------------+\n",
            "|  2023-10-05|\n",
            "+------------+\n",
            "only showing top 1 row\n",
            "\n"
          ]
        }
      ]
    },
    {
      "cell_type": "code",
      "source": [
        "df.select(col(\"dob\"),date_format(col(\"dob\"), \"MM-dd-yyyy\").alias(\"date_format\")).show()"
      ],
      "metadata": {
        "colab": {
          "base_uri": "https://localhost:8080/"
        },
        "id": "NpcJ4CiQ3WVt",
        "outputId": "e2b53fbd-16b6-44e7-9d37-45090a681ddf"
      },
      "execution_count": null,
      "outputs": [
        {
          "output_type": "stream",
          "name": "stdout",
          "text": [
            "+----------+-----------+\n",
            "|       dob|date_format|\n",
            "+----------+-----------+\n",
            "|2004-05-17| 05-17-2004|\n",
            "|2003-09-22| 09-22-2003|\n",
            "|2013-02-25| 02-25-2013|\n",
            "+----------+-----------+\n",
            "\n"
          ]
        }
      ]
    },
    {
      "cell_type": "code",
      "source": [
        "df.select(col(\"dob\"),to_date(col(\"dob\"),\"yyy-MM-dd\").alias(\"to_date\")).show()"
      ],
      "metadata": {
        "colab": {
          "base_uri": "https://localhost:8080/"
        },
        "id": "tzxhAnef3kxo",
        "outputId": "61270b13-e97c-42ed-8931-fa0722a235fe"
      },
      "execution_count": null,
      "outputs": [
        {
          "output_type": "stream",
          "name": "stdout",
          "text": [
            "+----------+----------+\n",
            "|       dob|   to_date|\n",
            "+----------+----------+\n",
            "|2004-05-17|2004-05-17|\n",
            "|2003-09-22|2003-09-22|\n",
            "|2013-02-25|2013-02-25|\n",
            "+----------+----------+\n",
            "\n"
          ]
        }
      ]
    },
    {
      "cell_type": "code",
      "source": [
        "df.select(col(\"dob\"),datediff(current_date(),col(\"dob\")).alias(\"datediff\")).show()"
      ],
      "metadata": {
        "colab": {
          "base_uri": "https://localhost:8080/"
        },
        "id": "lg9mUL4Q4DyC",
        "outputId": "f018f6de-056d-420e-eabc-c955c3584784"
      },
      "execution_count": null,
      "outputs": [
        {
          "output_type": "stream",
          "name": "stdout",
          "text": [
            "+----------+--------+\n",
            "|       dob|datediff|\n",
            "+----------+--------+\n",
            "|2004-05-17|    7080|\n",
            "|2003-09-22|    7318|\n",
            "|2013-02-25|    3874|\n",
            "+----------+--------+\n",
            "\n"
          ]
        }
      ]
    },
    {
      "cell_type": "code",
      "source": [
        "df.select(col(\"dob\"),months_between(current_date(),col(\"dob\")).alias(\"months_between\")).show()"
      ],
      "metadata": {
        "colab": {
          "base_uri": "https://localhost:8080/"
        },
        "id": "RjfbcH1H4gJI",
        "outputId": "59b4d273-a846-4971-cdd7-e11c64807e7c"
      },
      "execution_count": null,
      "outputs": [
        {
          "output_type": "stream",
          "name": "stdout",
          "text": [
            "+----------+--------------+\n",
            "|       dob|months_between|\n",
            "+----------+--------------+\n",
            "|2004-05-17|  232.61290323|\n",
            "|2003-09-22|   240.4516129|\n",
            "|2013-02-25|  127.35483871|\n",
            "+----------+--------------+\n",
            "\n"
          ]
        }
      ]
    },
    {
      "cell_type": "code",
      "source": [
        "df.select(col(\"dob\"),\\\n",
        "          trunc(col(\"dob\"),\"Month\").alias(\"Month_Trunc\"),\\\n",
        "          trunc(col(\"dob\"),\"Year\").alias(\"Month_Year\"),\\\n",
        "          trunc(col(\"dob\"),\"Month\").alias(\"Month_Trunc\")).show()"
      ],
      "metadata": {
        "colab": {
          "base_uri": "https://localhost:8080/"
        },
        "id": "9QXr6Y3W40bp",
        "outputId": "f428e161-ceaf-42a8-b2ff-c2e2bbd01e4f"
      },
      "execution_count": null,
      "outputs": [
        {
          "output_type": "stream",
          "name": "stdout",
          "text": [
            "+----------+-----------+----------+-----------+\n",
            "|       dob|Month_Trunc|Month_Year|Month_Trunc|\n",
            "+----------+-----------+----------+-----------+\n",
            "|2004-05-17| 2004-05-01|2004-01-01| 2004-05-01|\n",
            "|2003-09-22| 2003-09-01|2003-01-01| 2003-09-01|\n",
            "|2013-02-25| 2013-02-01|2013-01-01| 2013-02-01|\n",
            "+----------+-----------+----------+-----------+\n",
            "\n"
          ]
        }
      ]
    },
    {
      "cell_type": "code",
      "source": [
        "from pyspark.sql.types import StringType, StructType, StructField\n",
        "\n",
        "\n",
        "# Sample data with explicit schema\n",
        "data=[(\"2004-05-17\",),(\"2003-09-22\",),(\"2013-02-25\",)]\n",
        "schema = StructType([StructField(\"dob\", StringType(), True)])\n",
        "\n",
        "# Create a DataFrame with the defined schema\n",
        "df = spark.createDataFrame(data, schema)\n",
        "\n",
        "# Select columns and truncate the \"input\" column to month and year\n",
        "result_df = df.select(\n",
        "    col(\"dob\"),\n",
        "    trunc(col(\"dob\"), \"Month\").alias(\"Month_Trunc\"),\n",
        "    trunc(col(\"dob\"), \"Year\").alias(\"Month_Year\"),\n",
        "    trunc(col(\"dob\"), \"Month\").alias(\"Month_Trunc_2\")\n",
        ")\n",
        "# Show the result\n",
        "result_df.show()"
      ],
      "metadata": {
        "colab": {
          "base_uri": "https://localhost:8080/"
        },
        "id": "_gPvBmGX5C7j",
        "outputId": "44c09e77-520c-4340-abd6-62ba3c79bcec"
      },
      "execution_count": null,
      "outputs": [
        {
          "output_type": "stream",
          "name": "stdout",
          "text": [
            "+----------+-----------+----------+-------------+\n",
            "|       dob|Month_Trunc|Month_Year|Month_Trunc_2|\n",
            "+----------+-----------+----------+-------------+\n",
            "|2004-05-17| 2004-05-01|2004-01-01|   2004-05-01|\n",
            "|2003-09-22| 2003-09-01|2003-01-01|   2003-09-01|\n",
            "|2013-02-25| 2013-02-01|2013-01-01|   2013-02-01|\n",
            "+----------+-----------+----------+-------------+\n",
            "\n"
          ]
        }
      ]
    },
    {
      "cell_type": "code",
      "source": [
        "df.select(col(\"dob\"), \\\n",
        "          add_months(col(\"dob\"),3).alias(\"add_months\"), \\\n",
        "          add_months(col(\"dob\"),-3).alias(\"sub_months\"), \\\n",
        "          date_add(col(\"dob\"),4).alias(\"date_add\"), \\\n",
        "          date_sub(col(\"dob\"),4).alias(\"date_sub\")).show()"
      ],
      "metadata": {
        "colab": {
          "base_uri": "https://localhost:8080/"
        },
        "id": "9rACCgBW570X",
        "outputId": "5964bdea-bb5a-4513-9390-bf5dcb0e4532"
      },
      "execution_count": null,
      "outputs": [
        {
          "output_type": "stream",
          "name": "stdout",
          "text": [
            "+----------+----------+----------+----------+----------+\n",
            "|       dob|add_months|sub_months|  date_add|  date_sub|\n",
            "+----------+----------+----------+----------+----------+\n",
            "|2004-05-17|2004-08-17|2004-02-17|2004-05-21|2004-05-13|\n",
            "|2003-09-22|2003-12-22|2003-06-22|2003-09-26|2003-09-18|\n",
            "|2013-02-25|2013-05-25|2012-11-25|2013-03-01|2013-02-21|\n",
            "+----------+----------+----------+----------+----------+\n",
            "\n"
          ]
        }
      ]
    },
    {
      "cell_type": "code",
      "source": [
        "df.select(col(\"dob\"),\\\n",
        "          year(col(\"dob\")).alias(\"year\"),\\\n",
        "          month(col(\"dob\")).alias(\"month\"), \\\n",
        "          next_day(col(\"dob\"),\"Sunday\").alias(\"next_day\"), \\\n",
        "          weekofyear(col(\"dob\")).alias(\"weekofyear\") ).show()"
      ],
      "metadata": {
        "colab": {
          "base_uri": "https://localhost:8080/"
        },
        "id": "-LzqL9Dr6Pmf",
        "outputId": "951a35b6-4589-4015-c167-4058e3ce371b"
      },
      "execution_count": null,
      "outputs": [
        {
          "output_type": "stream",
          "name": "stdout",
          "text": [
            "+----------+----+-----+----------+----------+\n",
            "|       dob|year|month|  next_day|weekofyear|\n",
            "+----------+----+-----+----------+----------+\n",
            "|2004-05-17|2004|    5|2004-05-23|        21|\n",
            "|2003-09-22|2003|    9|2003-09-28|        39|\n",
            "|2013-02-25|2013|    2|2013-03-03|         9|\n",
            "+----------+----+-----+----------+----------+\n",
            "\n"
          ]
        }
      ]
    },
    {
      "cell_type": "code",
      "source": [
        "df.select(col(\"dob\"),\n",
        "     dayofweek(col(\"dob\")).alias(\"dayofweek\"),\n",
        "     dayofmonth(col(\"dob\")).alias(\"dayofmonth\"),\n",
        "     dayofyear(col(\"dob\")).alias(\"dayofyear\"),\n",
        "  ).show()"
      ],
      "metadata": {
        "colab": {
          "base_uri": "https://localhost:8080/"
        },
        "id": "F0qn-rNS608E",
        "outputId": "975a4740-a832-4d06-a387-bdbf7a53d75e"
      },
      "execution_count": null,
      "outputs": [
        {
          "output_type": "stream",
          "name": "stdout",
          "text": [
            "+----------+---------+----------+---------+\n",
            "|       dob|dayofweek|dayofmonth|dayofyear|\n",
            "+----------+---------+----------+---------+\n",
            "|2004-05-17|        2|        17|      138|\n",
            "|2003-09-22|        2|        22|      265|\n",
            "|2013-02-25|        2|        25|       56|\n",
            "+----------+---------+----------+---------+\n",
            "\n"
          ]
        }
      ]
    },
    {
      "cell_type": "markdown",
      "source": [
        "**current_timestamp()**\n",
        "\n",
        "Following are the Timestamp Functions that you can use on SQL and on DataFrame. Let’s learn these with examples."
      ],
      "metadata": {
        "id": "nntw5-vH68S8"
      }
    },
    {
      "cell_type": "code",
      "source": [
        "data=[[\"1\",\"02-01-2020 11 01 19 06\"],[\"2\",\"03-01-2019 12 01 19 406\"],[\"3\",\"03-01-2021 12 01 19 406\"]]\n",
        "df2=spark.createDataFrame(data,[\"id\",\"input\"])\n",
        "df2.show(truncate=False)"
      ],
      "metadata": {
        "colab": {
          "base_uri": "https://localhost:8080/"
        },
        "id": "tWkZi2vt7Hc3",
        "outputId": "b9922f6c-42fc-4907-c90c-7782c86b4e83"
      },
      "execution_count": null,
      "outputs": [
        {
          "output_type": "stream",
          "name": "stdout",
          "text": [
            "+---+-----------------------+\n",
            "|id |input                  |\n",
            "+---+-----------------------+\n",
            "|1  |02-01-2020 11 01 19 06 |\n",
            "|2  |03-01-2019 12 01 19 406|\n",
            "|3  |03-01-2021 12 01 19 406|\n",
            "+---+-----------------------+\n",
            "\n"
          ]
        }
      ]
    },
    {
      "cell_type": "code",
      "source": [
        "#current_timestamp()\n",
        "df2.select(current_timestamp().alias(\"current_timestamp\")\n",
        "  ).show(1,truncate=False)"
      ],
      "metadata": {
        "colab": {
          "base_uri": "https://localhost:8080/"
        },
        "id": "9JPFh4x37Nrj",
        "outputId": "f8004d1c-cd3f-4381-acda-a1be9aef9682"
      },
      "execution_count": null,
      "outputs": [
        {
          "output_type": "stream",
          "name": "stdout",
          "text": [
            "+--------------------------+\n",
            "|current_timestamp         |\n",
            "+--------------------------+\n",
            "|2023-10-05 17:04:58.253346|\n",
            "+--------------------------+\n",
            "only showing top 1 row\n",
            "\n"
          ]
        }
      ]
    },
    {
      "cell_type": "code",
      "source": [
        "#to_timestamp()\n",
        "df2.select(col(\"input\"),\n",
        "    to_timestamp(col(\"input\"), \"MM-dd-yyyy HH mm ss SSS\").alias(\"to_timestamp\")\n",
        "  ).show(1,truncate=False)"
      ],
      "metadata": {
        "colab": {
          "base_uri": "https://localhost:8080/"
        },
        "id": "IXcnki7d7SIg",
        "outputId": "81633d5b-5f71-487a-d5eb-b59db6a2c4f6"
      },
      "execution_count": null,
      "outputs": [
        {
          "output_type": "stream",
          "name": "stdout",
          "text": [
            "+----------------------+----------------------+\n",
            "|input                 |to_timestamp          |\n",
            "+----------------------+----------------------+\n",
            "|02-01-2020 11 01 19 06|2020-02-01 11:01:19.06|\n",
            "+----------------------+----------------------+\n",
            "only showing top 1 row\n",
            "\n"
          ]
        }
      ]
    },
    {
      "cell_type": "code",
      "source": [
        "#hour, minute,second\n",
        "data=[[\"1\",\"2020-02-01 11:01:19.06\"],[\"2\",\"2019-03-01 12:01:19.406\"],[\"3\",\"2021-03-01 12:01:19.406\"]]\n",
        "df3=spark.createDataFrame(data,[\"id\",\"input\"])\n",
        "\n",
        "df3.select(col(\"input\"),\n",
        "    hour(col(\"input\")).alias(\"hour\"),\n",
        "    minute(col(\"input\")).alias(\"minute\"),\n",
        "    second(col(\"input\")).alias(\"second\")\n",
        "  ).show(1,truncate=False)"
      ],
      "metadata": {
        "colab": {
          "base_uri": "https://localhost:8080/"
        },
        "id": "DIML_-rn7Xg8",
        "outputId": "39418f68-e932-4c9e-d4c8-ab7e7946c68c"
      },
      "execution_count": null,
      "outputs": [
        {
          "output_type": "stream",
          "name": "stdout",
          "text": [
            "+----------------------+----+------+------+\n",
            "|input                 |hour|minute|second|\n",
            "+----------------------+----+------+------+\n",
            "|2020-02-01 11:01:19.06|11  |1     |19    |\n",
            "+----------------------+----+------+------+\n",
            "only showing top 1 row\n",
            "\n"
          ]
        }
      ]
    }
  ]
}