{
  "nbformat": 4,
  "nbformat_minor": 0,
  "metadata": {
    "colab": {
      "provenance": [],
      "authorship_tag": "ABX9TyP7GHADl++u1DlP/C4Kt88f",
      "include_colab_link": true
    },
    "kernelspec": {
      "name": "python3",
      "display_name": "Python 3"
    },
    "language_info": {
      "name": "python"
    }
  },
  "cells": [
    {
      "cell_type": "markdown",
      "metadata": {
        "id": "view-in-github",
        "colab_type": "text"
      },
      "source": [
        "<a href=\"https://colab.research.google.com/github/imdineshkumar24/Big_Data_Analytics_exp/blob/main/BDA_ex_no_3a.ipynb\" target=\"_parent\"><img src=\"https://colab.research.google.com/assets/colab-badge.svg\" alt=\"Open In Colab\"/></a>"
      ]
    },
    {
      "cell_type": "code",
      "execution_count": null,
      "metadata": {
        "colab": {
          "base_uri": "https://localhost:8080/"
        },
        "id": "P2mFa1qMCy5w",
        "outputId": "8d46c678-a277-47ca-821a-93d69237fb3e"
      },
      "outputs": [
        {
          "output_type": "stream",
          "name": "stdout",
          "text": [
            "Collecting pyspark\n",
            "  Downloading pyspark-3.4.1.tar.gz (310.8 MB)\n",
            "\u001b[2K     \u001b[90m━━━━━━━━━━━━━━━━━━━━━━━━━━━━━━━━━━━━━━━\u001b[0m \u001b[32m310.8/310.8 MB\u001b[0m \u001b[31m4.5 MB/s\u001b[0m eta \u001b[36m0:00:00\u001b[0m\n",
            "\u001b[?25h  Preparing metadata (setup.py) ... \u001b[?25l\u001b[?25hdone\n",
            "Requirement already satisfied: py4j==0.10.9.7 in /usr/local/lib/python3.10/dist-packages (from pyspark) (0.10.9.7)\n",
            "Building wheels for collected packages: pyspark\n",
            "  Building wheel for pyspark (setup.py) ... \u001b[?25l\u001b[?25hdone\n",
            "  Created wheel for pyspark: filename=pyspark-3.4.1-py2.py3-none-any.whl size=311285388 sha256=2363538566c1062a9077cfb0f6b0bf83288beae486e6a3f085f1c43a54d6218d\n",
            "  Stored in directory: /root/.cache/pip/wheels/0d/77/a3/ff2f74cc9ab41f8f594dabf0579c2a7c6de920d584206e0834\n",
            "Successfully built pyspark\n",
            "Installing collected packages: pyspark\n",
            "Successfully installed pyspark-3.4.1\n"
          ]
        }
      ],
      "source": [
        "!pip install pyspark\n",
        "from pyspark.sql import SparkSession\n",
        "spark = SparkSession.builder.master(\"local[1]\").appName(\"SparkByExamples.com\").getOrCreate()"
      ]
    },
    {
      "cell_type": "markdown",
      "source": [
        "Action Function"
      ],
      "metadata": {
        "id": "lzR_lTP7E9u6"
      }
    },
    {
      "cell_type": "markdown",
      "source": [
        "count"
      ],
      "metadata": {
        "id": "2jMWrCVVDv1j"
      }
    },
    {
      "cell_type": "code",
      "source": [
        "#Create RDD from parallelize\n",
        "sc = spark.sparkContext\n",
        "data = [1,2,3,4,5,6,7,8,9,10,11,12]\n",
        "rdd=sc.parallelize(data)\n",
        "print(rdd.count())"
      ],
      "metadata": {
        "colab": {
          "base_uri": "https://localhost:8080/"
        },
        "id": "UREnUxGaDQok",
        "outputId": "3af52ed7-db40-4d0f-9e22-4192336054e6"
      },
      "execution_count": null,
      "outputs": [
        {
          "output_type": "stream",
          "name": "stdout",
          "text": [
            "12\n"
          ]
        }
      ]
    },
    {
      "cell_type": "markdown",
      "source": [
        "collect"
      ],
      "metadata": {
        "id": "igwCG7KeDx5D"
      }
    },
    {
      "cell_type": "code",
      "source": [],
      "metadata": {
        "id": "1lU49f4J8X9T"
      },
      "execution_count": null,
      "outputs": []
    },
    {
      "cell_type": "code",
      "source": [
        "rdd=sc.parallelize(data)\n",
        "print(rdd.collect())"
      ],
      "metadata": {
        "colab": {
          "base_uri": "https://localhost:8080/"
        },
        "id": "EMnQj1eaDtlj",
        "outputId": "ff24bf1e-1c92-4306-c498-2700550aa921"
      },
      "execution_count": null,
      "outputs": [
        {
          "output_type": "stream",
          "name": "stdout",
          "text": [
            "[1, 2, 3, 4, 5, 6, 7, 8, 9, 10, 11, 12]\n"
          ]
        }
      ]
    },
    {
      "cell_type": "markdown",
      "source": [
        "first"
      ],
      "metadata": {
        "id": "rWyGCt4gEBiR"
      }
    },
    {
      "cell_type": "code",
      "source": [
        "print(rdd.first())"
      ],
      "metadata": {
        "colab": {
          "base_uri": "https://localhost:8080/"
        },
        "id": "3Dbshn_YD3dC",
        "outputId": "33836776-38b3-486c-9823-4f240b115c5f"
      },
      "execution_count": null,
      "outputs": [
        {
          "output_type": "stream",
          "name": "stdout",
          "text": [
            "1\n"
          ]
        }
      ]
    },
    {
      "cell_type": "markdown",
      "source": [
        "take"
      ],
      "metadata": {
        "id": "WYUP-GQTEQV6"
      }
    },
    {
      "cell_type": "code",
      "source": [
        "print(rdd.take(7))"
      ],
      "metadata": {
        "colab": {
          "base_uri": "https://localhost:8080/"
        },
        "id": "bjYQrU_AEFPr",
        "outputId": "49e42855-333c-4639-c3a2-5a526509c4fa"
      },
      "execution_count": null,
      "outputs": [
        {
          "output_type": "stream",
          "name": "stdout",
          "text": [
            "[1, 2, 3, 4, 5, 6, 7]\n"
          ]
        }
      ]
    },
    {
      "cell_type": "code",
      "source": [
        "data = [1,2,3,4,5,6,7,8,9,10]\n",
        "rdd=sc.parallelize(data)\n",
        "print(rdd.reduce(lambda x, y : x + y))"
      ],
      "metadata": {
        "colab": {
          "base_uri": "https://localhost:8080/"
        },
        "id": "DwHQk4LHEMhL",
        "outputId": "794d7f61-8731-46ac-e770-c79bc74e3f73"
      },
      "execution_count": null,
      "outputs": [
        {
          "output_type": "stream",
          "name": "stdout",
          "text": [
            "55\n"
          ]
        }
      ]
    },
    {
      "cell_type": "markdown",
      "source": [
        "Transformation Function"
      ],
      "metadata": {
        "id": "X1dDvRNZFBVk"
      }
    },
    {
      "cell_type": "markdown",
      "source": [
        "Map"
      ],
      "metadata": {
        "id": "GBzBPtKsFTCJ"
      }
    },
    {
      "cell_type": "code",
      "source": [
        "from pyspark import SparkContext\n",
        "sc=SparkContext.getOrCreate()\n",
        "rdd = sc.parallelize([1,2,3,4,5,6,7])\n",
        "print(rdd.map(lambda x: x+ 10).collect())"
      ],
      "metadata": {
        "colab": {
          "base_uri": "https://localhost:8080/"
        },
        "id": "2G1ict7EEdjK",
        "outputId": "51393488-08f2-422c-b129-8a5b1167d1aa"
      },
      "execution_count": null,
      "outputs": [
        {
          "output_type": "stream",
          "name": "stdout",
          "text": [
            "[11, 12, 13, 14, 15, 16, 17]\n"
          ]
        }
      ]
    },
    {
      "cell_type": "markdown",
      "source": [
        "Filter"
      ],
      "metadata": {
        "id": "JWcZUcGJF1fQ"
      }
    },
    {
      "cell_type": "code",
      "source": [
        "filter_rdd = sc.parallelize([1,2,3,4,5,6,7,8,9,10])\n",
        "print(filter_rdd.filter(lambda x: x%3 == 0).collect())"
      ],
      "metadata": {
        "colab": {
          "base_uri": "https://localhost:8080/"
        },
        "id": "uCh_zf4jExai",
        "outputId": "ce0c1340-a8eb-4733-cfad-3b2f329454af"
      },
      "execution_count": null,
      "outputs": [
        {
          "output_type": "stream",
          "name": "stdout",
          "text": [
            "[3, 6, 9]\n"
          ]
        }
      ]
    },
    {
      "cell_type": "code",
      "source": [
        "filter_rdd_2 = sc.parallelize(['Kl Rahul', 'Ms Dhoni', 'Rohit', 'Virat', 'Rahane'])\n",
        "print(filter_rdd_2.filter(lambda x: x.startswith('R')).collect())"
      ],
      "metadata": {
        "colab": {
          "base_uri": "https://localhost:8080/"
        },
        "id": "qTLiuda8GK1g",
        "outputId": "fb2d0989-4c5c-44c1-fc1e-9d7d7d84c72e"
      },
      "execution_count": null,
      "outputs": [
        {
          "output_type": "stream",
          "name": "stdout",
          "text": [
            "['Rohit', 'Rahane']\n"
          ]
        }
      ]
    },
    {
      "cell_type": "code",
      "source": [
        "union_inp = sc.parallelize([1,2,3,4,5,6,7,8,9,10,11,12])\n",
        "union_rdd_1 = union_inp.filter(lambda x: x % 2 == 0)\n",
        "print(union_rdd_1.collect())\n",
        "union_rdd_2 = union_inp.filter(lambda x: x % 3 == 0)\n",
        "print(union_rdd_2.collect())\n",
        "print(union_rdd_1.union(union_rdd_2).collect())"
      ],
      "metadata": {
        "colab": {
          "base_uri": "https://localhost:8080/"
        },
        "id": "_o35w4bzGq8g",
        "outputId": "17f2668e-db85-4bfa-9337-6c9dd75350d4"
      },
      "execution_count": null,
      "outputs": [
        {
          "output_type": "stream",
          "name": "stdout",
          "text": [
            "[2, 4, 6, 8, 10, 12]\n",
            "[3, 6, 9, 12]\n",
            "[2, 4, 6, 8, 10, 12, 3, 6, 9, 12]\n"
          ]
        }
      ]
    },
    {
      "cell_type": "code",
      "source": [
        "int_inp = sc.parallelize([1,2,3,4,5,6,7,8,9,10,11,12])\n",
        "int_rdd_1 = int_inp.filter(lambda x: x % 2 == 0)\n",
        "print(int_rdd_1.collect())\n",
        "int_rdd_2 = int_inp.filter(lambda x: x % 3 == 0)\n",
        "print(int_rdd_2.collect())\n",
        "print(int_rdd_1.intersection(int_rdd_2).collect())"
      ],
      "metadata": {
        "colab": {
          "base_uri": "https://localhost:8080/"
        },
        "id": "b0pUrgzpGxsP",
        "outputId": "b9864fd6-157e-4f02-fee8-229ac1a400c3"
      },
      "execution_count": null,
      "outputs": [
        {
          "output_type": "stream",
          "name": "stdout",
          "text": [
            "[2, 4, 6, 8, 10, 12]\n",
            "[3, 6, 9, 12]\n",
            "[6, 12]\n"
          ]
        }
      ]
    },
    {
      "cell_type": "code",
      "source": [
        "print(int_rdd_1.subtract(int_rdd_2).collect())"
      ],
      "metadata": {
        "colab": {
          "base_uri": "https://localhost:8080/"
        },
        "id": "uFN1rx7uIC7e",
        "outputId": "4b50ea9e-851f-4438-ae18-9f1aecf248cb"
      },
      "execution_count": null,
      "outputs": [
        {
          "output_type": "stream",
          "name": "stdout",
          "text": [
            "[2, 4, 8, 10]\n"
          ]
        }
      ]
    },
    {
      "cell_type": "code",
      "source": [
        "flatmap_rdd = sc.parallelize([\"Dhoni scored century against ENG\", \"and he got Man of The Match\"])\n",
        "(flatmap_rdd.flatMap(lambda x: x.split(\" \")).collect())"
      ],
      "metadata": {
        "colab": {
          "base_uri": "https://localhost:8080/"
        },
        "id": "6nwCjk73IT2t",
        "outputId": "faab973d-0071-4e8c-c60c-0ae17435914e"
      },
      "execution_count": null,
      "outputs": [
        {
          "output_type": "execute_result",
          "data": {
            "text/plain": [
              "['Dhoni',\n",
              " 'scored',\n",
              " 'century',\n",
              " 'against',\n",
              " 'ENG',\n",
              " 'and',\n",
              " 'he',\n",
              " 'got',\n",
              " 'Man',\n",
              " 'of',\n",
              " 'The',\n",
              " 'Match']"
            ]
          },
          "metadata": {},
          "execution_count": 74
        }
      ]
    },
    {
      "cell_type": "code",
      "source": [
        "#from pyspark import SparkContext, SparkConf\n",
        "\n",
        "# Sample pair RDD with (key, value) pairs\n",
        "pair_rdd = sc.parallelize([(1, 'Dhoni'), (2, 'Virat'), (3, 'Rohit'), (4, 'Sachin')])\n",
        "\n",
        "def append_fruit(value):\n",
        "    return value + \" is a cricketer\"\n",
        "\n",
        "modified_rdd = pair_rdd.mapValues(append_fruit)\n",
        "\n",
        "result = modified_rdd.collect()\n",
        "print(result)"
      ],
      "metadata": {
        "colab": {
          "base_uri": "https://localhost:8080/"
        },
        "id": "aOKshFiwJx1g",
        "outputId": "986635e4-cbdc-4ffd-bc96-a4b443bb6aef"
      },
      "execution_count": null,
      "outputs": [
        {
          "output_type": "stream",
          "name": "stdout",
          "text": [
            "[(1, 'Dhoni is a cricketer'), (2, 'Virat is a cricketer'), (3, 'Rohit is a cricketer'), (4, 'Sachin is a cricketer')]\n"
          ]
        }
      ]
    },
    {
      "cell_type": "code",
      "source": [
        "scores = [('dhoni', 88), ('kohli', 92), ('rohit', 83), ('dhawan', 93), ('jadeja', 78)]\n",
        "sc.parallelize(scores).collect()"
      ],
      "metadata": {
        "colab": {
          "base_uri": "https://localhost:8080/"
        },
        "id": "I92wl6kgK7fs",
        "outputId": "08d4b802-013c-4630-ae97-e6cd95654c10"
      },
      "execution_count": null,
      "outputs": [
        {
          "output_type": "execute_result",
          "data": {
            "text/plain": [
              "[('dhoni', 88), ('kohli', 92), ('rohit', 83), ('dhawan', 93), ('jadeja', 78)]"
            ]
          },
          "metadata": {},
          "execution_count": 57
        }
      ]
    },
    {
      "cell_type": "code",
      "source": [
        "scores = sc.parallelize([('dhoni', 88), ('kohli', 92), ('rohit', 83), ('dhawan', 93), ('jadeja', 78)])\n",
        "print(scores.reduceByKey(lambda x, y: x + y).collect())"
      ],
      "metadata": {
        "colab": {
          "base_uri": "https://localhost:8080/"
        },
        "id": "tVynbvVPOF17",
        "outputId": "abf1cc1e-4e66-41ed-9abe-44dbdb1609d9"
      },
      "execution_count": null,
      "outputs": [
        {
          "output_type": "stream",
          "name": "stdout",
          "text": [
            "[('dhoni', 88), ('kohli', 92), ('rohit', 83), ('dhawan', 93), ('jadeja', 78)]\n"
          ]
        }
      ]
    },
    {
      "cell_type": "code",
      "source": [
        "print(scores.sortByKey(ascending=True).collect())"
      ],
      "metadata": {
        "colab": {
          "base_uri": "https://localhost:8080/"
        },
        "id": "IfHvwS56PSb7",
        "outputId": "30ae4e82-8cd3-44f2-e6bf-971e46c2b4d9"
      },
      "execution_count": null,
      "outputs": [
        {
          "output_type": "stream",
          "name": "stdout",
          "text": [
            "[('dhawan', 93), ('dhoni', 88), ('jadeja', 78), ('kohli', 92), ('rohit', 83)]\n"
          ]
        }
      ]
    },
    {
      "cell_type": "code",
      "source": [
        "scores = sc.parallelize([('dhoni', 88), ('kohli', 92), ('rohit', 83), ('dhawan', 93), ('jadeja', 78),('rohit',88)])\n",
        "dict_rdd = scores.groupByKey().collect()\n",
        "for key, value in dict_rdd:\n",
        "    print(key, list(value))"
      ],
      "metadata": {
        "colab": {
          "base_uri": "https://localhost:8080/"
        },
        "id": "w-F9NIjPQd5I",
        "outputId": "2412c890-28cc-441c-9c5b-296183cbca83"
      },
      "execution_count": null,
      "outputs": [
        {
          "output_type": "stream",
          "name": "stdout",
          "text": [
            "dhoni [88]\n",
            "kohli [92]\n",
            "rohit [83, 88]\n",
            "dhawan [93]\n",
            "jadeja [78]\n"
          ]
        }
      ]
    },
    {
      "cell_type": "code",
      "source": [
        "scores = sc.parallelize([('dhoni', 88), ('kohli', 92), ('rohit', 83), ('dhawan', 93), ('jadeja', 78),('rohit',88)])\n",
        "ct_rdd = scores.countByKey().items()\n",
        "for key, value in ct_rdd:\n",
        "    print(key, value)"
      ],
      "metadata": {
        "colab": {
          "base_uri": "https://localhost:8080/"
        },
        "id": "u-sj4IoQQ3gB",
        "outputId": "d243eea0-1be8-4400-9128-f77d607f059e"
      },
      "execution_count": null,
      "outputs": [
        {
          "output_type": "stream",
          "name": "stdout",
          "text": [
            "dhoni 1\n",
            "kohli 1\n",
            "rohit 2\n",
            "dhawan 1\n",
            "jadeja 1\n"
          ]
        }
      ]
    },
    {
      "cell_type": "code",
      "source": [],
      "metadata": {
        "id": "Mz4G3mRxRDpa"
      },
      "execution_count": null,
      "outputs": []
    }
  ]
}