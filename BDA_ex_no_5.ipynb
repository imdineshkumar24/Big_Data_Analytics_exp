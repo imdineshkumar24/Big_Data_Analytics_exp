{
  "nbformat": 4,
  "nbformat_minor": 0,
  "metadata": {
    "colab": {
      "provenance": [],
      "authorship_tag": "ABX9TyPmx7xcYgTE5KjUXbWv3V7V",
      "include_colab_link": true
    },
    "kernelspec": {
      "name": "python3",
      "display_name": "Python 3"
    },
    "language_info": {
      "name": "python"
    }
  },
  "cells": [
    {
      "cell_type": "markdown",
      "metadata": {
        "id": "view-in-github",
        "colab_type": "text"
      },
      "source": [
        "<a href=\"https://colab.research.google.com/github/imdineshkumar24/Big_Data_Analytics_exp/blob/main/BDA_ex_no_5.ipynb\" target=\"_parent\"><img src=\"https://colab.research.google.com/assets/colab-badge.svg\" alt=\"Open In Colab\"/></a>"
      ]
    },
    {
      "cell_type": "code",
      "execution_count": null,
      "metadata": {
        "colab": {
          "base_uri": "https://localhost:8080/"
        },
        "id": "QsE-pguXTILC",
        "outputId": "eaff6bc6-6d29-4550-b563-e4f698158c4f"
      },
      "outputs": [
        {
          "output_type": "stream",
          "name": "stdout",
          "text": [
            "Collecting pyspark\n",
            "  Downloading pyspark-3.4.1.tar.gz (310.8 MB)\n",
            "\u001b[2K     \u001b[90m━━━━━━━━━━━━━━━━━━━━━━━━━━━━━━━━━━━━━━━\u001b[0m \u001b[32m310.8/310.8 MB\u001b[0m \u001b[31m4.1 MB/s\u001b[0m eta \u001b[36m0:00:00\u001b[0m\n",
            "\u001b[?25h  Preparing metadata (setup.py) ... \u001b[?25l\u001b[?25hdone\n",
            "Requirement already satisfied: py4j==0.10.9.7 in /usr/local/lib/python3.10/dist-packages (from pyspark) (0.10.9.7)\n",
            "Building wheels for collected packages: pyspark\n",
            "  Building wheel for pyspark (setup.py) ... \u001b[?25l\u001b[?25hdone\n",
            "  Created wheel for pyspark: filename=pyspark-3.4.1-py2.py3-none-any.whl size=311285387 sha256=594ff0ef45383f051b7f0c12cb73a01850b2663203934c2284851dc16c32a5ca\n",
            "  Stored in directory: /root/.cache/pip/wheels/0d/77/a3/ff2f74cc9ab41f8f594dabf0579c2a7c6de920d584206e0834\n",
            "Successfully built pyspark\n",
            "Installing collected packages: pyspark\n",
            "Successfully installed pyspark-3.4.1\n"
          ]
        }
      ],
      "source": [
        "!pip install pyspark"
      ]
    },
    {
      "cell_type": "code",
      "source": [
        "from pyspark.sql import SparkSession\n",
        "spark = SparkSession.builder.master('local[1]').appName('spark.com').enableHiveSupport().getOrCreate()"
      ],
      "metadata": {
        "id": "EoGEafUbTQ2A"
      },
      "execution_count": null,
      "outputs": []
    },
    {
      "cell_type": "code",
      "source": [
        "from pyspark.sql import functions as functions\n",
        "data = [\n",
        "[\"21ADR001\", \"Dinesh\", \"AI\",88, 99],\n",
        "[\"21CSR55\", \"Suganth\", \"CSE\", 90, 80],\n",
        "[\"21CSR76\", \"Vetri\",  \"CSE\", 87, 80],\n",
        "[\"21ADR072\", \"Dhanush\",\"AI\", 98, 89],\n",
        "[\"21ITR005\", \"Yaswin\",\"IT\",68, 56],\n",
        "[\"21MTR002\", \"Srihari\",\"MTS\", 88, 94]\n",
        "]\n",
        "columns = ['ID','name','dept','subject_1','subject_2']\n",
        "df = spark.createDataFrame(data,columns)\n",
        "df.show()"
      ],
      "metadata": {
        "colab": {
          "base_uri": "https://localhost:8080/"
        },
        "id": "OHyaFfyJTS4d",
        "outputId": "6e267555-f6ff-4803-fc94-13d9c422cbe7"
      },
      "execution_count": null,
      "outputs": [
        {
          "output_type": "stream",
          "name": "stdout",
          "text": [
            "+---------+-----------+-----------+----+---------+---------+----+\n",
            "|studentID|studentname|collegename|dept|subject_1|subject_2|cgpa|\n",
            "+---------+-----------+-----------+----+---------+---------+----+\n",
            "| 21ADR001|     Dinesh|        KEC|  AI|       88|       99|8.06|\n",
            "|  21CSR55|    Suganth|        KEC| CSE|       90|       80|7.89|\n",
            "|  21CSR76|      Vetri|        PSG| CSE|       87|       80|7.98|\n",
            "| 21ADR072|    Dhanush|        PSG|  AI|       98|       89| 8.1|\n",
            "| 21ITR005|     Yaswin|        PSG|  IT|       68|       56|7.91|\n",
            "| 21MTR002|    Srihari|        PSG| MTS|       88|       94|7.87|\n",
            "+---------+-----------+-----------+----+---------+---------+----+\n",
            "\n"
          ]
        }
      ]
    },
    {
      "cell_type": "code",
      "source": [
        "df.createOrReplaceTempView(\"p_1\")\n",
        "df.write.saveAsTable(\"new_table_1\")\n",
        "df.printSchema()"
      ],
      "metadata": {
        "colab": {
          "base_uri": "https://localhost:8080/"
        },
        "id": "-UL6OO_HX6uW",
        "outputId": "2cc288f0-8767-47d0-e391-dbf21a1965c5"
      },
      "execution_count": null,
      "outputs": [
        {
          "output_type": "stream",
          "name": "stdout",
          "text": [
            "root\n",
            " |-- studentID: string (nullable = true)\n",
            " |-- studentname: string (nullable = true)\n",
            " |-- collegename: string (nullable = true)\n",
            " |-- dept: string (nullable = true)\n",
            " |-- subject_1: long (nullable = true)\n",
            " |-- subject_2: long (nullable = true)\n",
            " |-- cgpa: double (nullable = true)\n",
            "\n"
          ]
        }
      ]
    },
    {
      "cell_type": "code",
      "source": [
        "spark.sql(\"CREATE TABLE new_table_2 AS SELECT * FROM p_1\")"
      ],
      "metadata": {
        "colab": {
          "base_uri": "https://localhost:8080/"
        },
        "id": "GdCUBV5beCx4",
        "outputId": "e4e64ab6-8fcc-4759-b4df-b72d8e1fc364"
      },
      "execution_count": null,
      "outputs": [
        {
          "output_type": "execute_result",
          "data": {
            "text/plain": [
              "DataFrame[]"
            ]
          },
          "metadata": {},
          "execution_count": 5
        }
      ]
    },
    {
      "cell_type": "code",
      "source": [
        "result = spark.sql(\"SELECT * FROM p_1\")\n",
        "result.show()"
      ],
      "metadata": {
        "id": "T6mgXtfleUCX",
        "colab": {
          "base_uri": "https://localhost:8080/"
        },
        "outputId": "839fb64b-15c0-46c7-deea-28ea7d763cdf"
      },
      "execution_count": null,
      "outputs": [
        {
          "output_type": "stream",
          "name": "stdout",
          "text": [
            "+---------+-----------+-----------+----+---------+---------+----+\n",
            "|studentID|studentname|collegename|dept|subject_1|subject_2|cgpa|\n",
            "+---------+-----------+-----------+----+---------+---------+----+\n",
            "| 21ADR001|     Dinesh|        KEC|  AI|       88|       99|8.06|\n",
            "|  21CSR55|    Suganth|        KEC| CSE|       90|       80|7.89|\n",
            "|  21CSR76|      Vetri|        PSG| CSE|       87|       80|7.98|\n",
            "| 21ADR072|    Dhanush|        PSG|  AI|       98|       89| 8.1|\n",
            "| 21ITR005|     Yaswin|        PSG|  IT|       68|       56|7.91|\n",
            "| 21MTR002|    Srihari|        PSG| MTS|       88|       94|7.87|\n",
            "+---------+-----------+-----------+----+---------+---------+----+\n",
            "\n"
          ]
        }
      ]
    },
    {
      "cell_type": "code",
      "source": [
        "result = spark.sql(\"SELECT * FROM p_1 WHERE subject_1 > 88\")\n",
        "result.show()"
      ],
      "metadata": {
        "colab": {
          "base_uri": "https://localhost:8080/"
        },
        "id": "n-9vf9AClBtV",
        "outputId": "4d0a5aab-e637-45e5-86ff-4d8e7b387635"
      },
      "execution_count": null,
      "outputs": [
        {
          "output_type": "stream",
          "name": "stdout",
          "text": [
            "+---------+-----------+-----------+----+---------+---------+----+\n",
            "|studentID|studentname|collegename|dept|subject_1|subject_2|cgpa|\n",
            "+---------+-----------+-----------+----+---------+---------+----+\n",
            "|  21CSR55|    Suganth|        KEC| CSE|       90|       80|7.89|\n",
            "| 21ADR072|    Dhanush|        PSG|  AI|       98|       89| 8.1|\n",
            "+---------+-----------+-----------+----+---------+---------+----+\n",
            "\n"
          ]
        }
      ]
    },
    {
      "cell_type": "code",
      "source": [
        "spark.sql(\"DESCRIBE new_table_2\").show()"
      ],
      "metadata": {
        "id": "IQ4PJNTmlIoc",
        "colab": {
          "base_uri": "https://localhost:8080/"
        },
        "outputId": "49dca3d1-4c8c-438f-843b-a488ff904e94"
      },
      "execution_count": null,
      "outputs": [
        {
          "output_type": "stream",
          "name": "stdout",
          "text": [
            "+-----------+---------+-------+\n",
            "|   col_name|data_type|comment|\n",
            "+-----------+---------+-------+\n",
            "|  studentID|   string|   null|\n",
            "|studentname|   string|   null|\n",
            "|collegename|   string|   null|\n",
            "|       dept|   string|   null|\n",
            "|  subject_1|   bigint|   null|\n",
            "|  subject_2|   bigint|   null|\n",
            "|       cgpa|   double|   null|\n",
            "+-----------+---------+-------+\n",
            "\n"
          ]
        }
      ]
    },
    {
      "cell_type": "code",
      "source": [
        "#SQL API\n",
        "spark.sql(\"SHOW COLUMNS FROM new_table_2\").show()"
      ],
      "metadata": {
        "colab": {
          "base_uri": "https://localhost:8080/"
        },
        "id": "a0A2SDxHN3aV",
        "outputId": "d1235376-4928-43b9-95df-9ac859345a12"
      },
      "execution_count": null,
      "outputs": [
        {
          "output_type": "stream",
          "name": "stdout",
          "text": [
            "+-----------+\n",
            "|   col_name|\n",
            "+-----------+\n",
            "|  studentID|\n",
            "|studentname|\n",
            "|collegename|\n",
            "|       dept|\n",
            "|  subject_1|\n",
            "|  subject_2|\n",
            "|       cgpa|\n",
            "+-----------+\n",
            "\n"
          ]
        }
      ]
    },
    {
      "cell_type": "code",
      "source": [
        "from pyspark.sql import functions as F\n",
        "df.withColumn(\"new_column\",F.lit(\"some_value\")).write.saveAsTable(\"new_table_3\")"
      ],
      "metadata": {
        "id": "3sOcezNTN-Zv"
      },
      "execution_count": null,
      "outputs": []
    },
    {
      "cell_type": "code",
      "source": [
        "spark.sql(\"ALTER TABLE new_table_2 ADD COLUMN new_column STRING\")"
      ],
      "metadata": {
        "colab": {
          "base_uri": "https://localhost:8080/"
        },
        "id": "RVklhCMKOGyd",
        "outputId": "ba52de72-2c96-4f67-909a-1d96cf9f57c4"
      },
      "execution_count": null,
      "outputs": [
        {
          "output_type": "execute_result",
          "data": {
            "text/plain": [
              "DataFrame[]"
            ]
          },
          "metadata": {},
          "execution_count": 12
        }
      ]
    },
    {
      "cell_type": "code",
      "source": [
        "new_data = [[\"21ADR056\", \"Mohan\", \"KEC\", \"AI\",80, 99,8.06],\n",
        "[\"21CSR59\", \"Rasil\", \"KEC\", \"CSE\", 90, 80,7.89],\n",
        "[\"21CSR78\", \"Arun\", \"PSG\", \"CSE\", 97, 80,7.98]]\n",
        "new_df = spark.createDataFrame(new_data, columns)\n",
        "new_df.write.insertInto(\"new_table_1\")"
      ],
      "metadata": {
        "id": "_83NCgLbONXY"
      },
      "execution_count": null,
      "outputs": []
    },
    {
      "cell_type": "code",
      "source": [
        "spark.sql(\"INSERT INTO TABLE new_table_2 VALUES ('21ADR056', 'Mohan', 'KEC', 'AI',80, 99,8.06),('21CSR59', 'Rasil', 'KEC', 'CSE', 90, 80,7.89)\")"
      ],
      "metadata": {
        "id": "l8joECM3Ovyo"
      },
      "execution_count": null,
      "outputs": []
    },
    {
      "cell_type": "code",
      "source": [
        "spark.sql(\"SELECT * FROM new_table_2\").show()"
      ],
      "metadata": {
        "colab": {
          "base_uri": "https://localhost:8080/"
        },
        "id": "iXCgmaIZPaYi",
        "outputId": "fdb0d096-6b9f-4dc4-fab2-e2f6f8d69259"
      },
      "execution_count": null,
      "outputs": [
        {
          "output_type": "stream",
          "name": "stdout",
          "text": [
            "+---------+-----------+-----------+----+---------+---------+----+----------+\n",
            "|studentID|studentname|collegename|dept|subject_1|subject_2|cgpa|new_column|\n",
            "+---------+-----------+-----------+----+---------+---------+----+----------+\n",
            "| 21ADR001|     Dinesh|        KEC|  AI|       88|       99|8.06|      null|\n",
            "|  21CSR55|    Suganth|        KEC| CSE|       90|       80|7.89|      null|\n",
            "|  21CSR76|      Vetri|        PSG| CSE|       87|       80|7.98|      null|\n",
            "| 21ADR072|    Dhanush|        PSG|  AI|       98|       89| 8.1|      null|\n",
            "| 21ITR005|     Yaswin|        PSG|  IT|       68|       56|7.91|      null|\n",
            "| 21MTR002|    Srihari|        PSG| MTS|       88|       94|7.87|      null|\n",
            "+---------+-----------+-----------+----+---------+---------+----+----------+\n",
            "\n"
          ]
        }
      ]
    },
    {
      "cell_type": "code",
      "source": [
        "df = spark.read.table(\"new_table_2\")\n",
        "df.show()"
      ],
      "metadata": {
        "colab": {
          "base_uri": "https://localhost:8080/"
        },
        "id": "Bfle3-WeP6Hk",
        "outputId": "a0fbb8a1-18a8-4f5b-9e4f-993eff35b5a7"
      },
      "execution_count": null,
      "outputs": [
        {
          "output_type": "stream",
          "name": "stdout",
          "text": [
            "+---------+-----------+-----------+----+---------+---------+----+----------+\n",
            "|studentID|studentname|collegename|dept|subject_1|subject_2|cgpa|new_column|\n",
            "+---------+-----------+-----------+----+---------+---------+----+----------+\n",
            "| 21ADR001|     Dinesh|        KEC|  AI|       88|       99|8.06|      null|\n",
            "|  21CSR55|    Suganth|        KEC| CSE|       90|       80|7.89|      null|\n",
            "|  21CSR76|      Vetri|        PSG| CSE|       87|       80|7.98|      null|\n",
            "| 21ADR072|    Dhanush|        PSG|  AI|       98|       89| 8.1|      null|\n",
            "| 21ITR005|     Yaswin|        PSG|  IT|       68|       56|7.91|      null|\n",
            "| 21MTR002|    Srihari|        PSG| MTS|       88|       94|7.87|      null|\n",
            "+---------+-----------+-----------+----+---------+---------+----+----------+\n",
            "\n"
          ]
        }
      ]
    },
    {
      "cell_type": "code",
      "source": [
        "df = df.withColumn(\"subject_1_plus_2\",F.expr(\"subject_1 + 2\"))\n",
        "df.show()"
      ],
      "metadata": {
        "colab": {
          "base_uri": "https://localhost:8080/"
        },
        "id": "VjKv2vwBQPBb",
        "outputId": "6a06c61e-008a-4265-d9cd-6e295a085d92"
      },
      "execution_count": null,
      "outputs": [
        {
          "output_type": "stream",
          "name": "stdout",
          "text": [
            "+---------+-----------+-----------+----+---------+---------+----+----------+----------------+\n",
            "|studentID|studentname|collegename|dept|subject_1|subject_2|cgpa|new_column|subject_1_plus_2|\n",
            "+---------+-----------+-----------+----+---------+---------+----+----------+----------------+\n",
            "| 21ADR001|     Dinesh|        KEC|  AI|       88|       99|8.06|      null|              90|\n",
            "|  21CSR55|    Suganth|        KEC| CSE|       90|       80|7.89|      null|              92|\n",
            "|  21CSR76|      Vetri|        PSG| CSE|       87|       80|7.98|      null|              89|\n",
            "| 21ADR072|    Dhanush|        PSG|  AI|       98|       89| 8.1|      null|             100|\n",
            "| 21ITR005|     Yaswin|        PSG|  IT|       68|       56|7.91|      null|              70|\n",
            "| 21MTR002|    Srihari|        PSG| MTS|       88|       94|7.87|      null|              90|\n",
            "+---------+-----------+-----------+----+---------+---------+----+----------+----------------+\n",
            "\n"
          ]
        }
      ]
    },
    {
      "cell_type": "code",
      "source": [
        "role = \"Student\"\n",
        "df_with_job = df.withColumn(\"role\",F.lit(role))\n",
        "df_with_job.show()"
      ],
      "metadata": {
        "colab": {
          "base_uri": "https://localhost:8080/"
        },
        "id": "QnA3MMrGQf8r",
        "outputId": "ec391a63-a7d7-4638-fbcf-623523d4dc22"
      },
      "execution_count": null,
      "outputs": [
        {
          "output_type": "stream",
          "name": "stdout",
          "text": [
            "+---------+-----------+-----------+----+---------+---------+----+----------+----------------+-------+\n",
            "|studentID|studentname|collegename|dept|subject_1|subject_2|cgpa|new_column|subject_1_plus_2|   role|\n",
            "+---------+-----------+-----------+----+---------+---------+----+----------+----------------+-------+\n",
            "| 21ADR001|     Dinesh|        KEC|  AI|       88|       99|8.06|      null|              90|Student|\n",
            "|  21CSR55|    Suganth|        KEC| CSE|       90|       80|7.89|      null|              92|Student|\n",
            "|  21CSR76|      Vetri|        PSG| CSE|       87|       80|7.98|      null|              89|Student|\n",
            "| 21ADR072|    Dhanush|        PSG|  AI|       98|       89| 8.1|      null|             100|Student|\n",
            "| 21ITR005|     Yaswin|        PSG|  IT|       68|       56|7.91|      null|              70|Student|\n",
            "| 21MTR002|    Srihari|        PSG| MTS|       88|       94|7.87|      null|              90|Student|\n",
            "+---------+-----------+-----------+----+---------+---------+----+----------+----------------+-------+\n",
            "\n"
          ]
        }
      ]
    },
    {
      "cell_type": "code",
      "source": [
        "update_df = df.filter(df[\"studentname\"]!=\"Vetri\")\n",
        "update_df.show()"
      ],
      "metadata": {
        "colab": {
          "base_uri": "https://localhost:8080/"
        },
        "id": "iNzqYDf9Q8iP",
        "outputId": "95d15543-66bc-4621-e0eb-c12267932c9c"
      },
      "execution_count": null,
      "outputs": [
        {
          "output_type": "stream",
          "name": "stdout",
          "text": [
            "+---------+-----------+-----------+----+---------+---------+----+----------+----------------+\n",
            "|studentID|studentname|collegename|dept|subject_1|subject_2|cgpa|new_column|subject_1_plus_2|\n",
            "+---------+-----------+-----------+----+---------+---------+----+----------+----------------+\n",
            "| 21ADR001|     Dinesh|        KEC|  AI|       88|       99|8.06|      null|              90|\n",
            "|  21CSR55|    Suganth|        KEC| CSE|       90|       80|7.89|      null|              92|\n",
            "| 21ADR072|    Dhanush|        PSG|  AI|       98|       89| 8.1|      null|             100|\n",
            "| 21ITR005|     Yaswin|        PSG|  IT|       68|       56|7.91|      null|              70|\n",
            "| 21MTR002|    Srihari|        PSG| MTS|       88|       94|7.87|      null|              90|\n",
            "+---------+-----------+-----------+----+---------+---------+----+----------+----------------+\n",
            "\n"
          ]
        }
      ]
    },
    {
      "cell_type": "code",
      "source": [],
      "metadata": {
        "id": "B3F88KqKRNLt"
      },
      "execution_count": null,
      "outputs": []
    }
  ]
}