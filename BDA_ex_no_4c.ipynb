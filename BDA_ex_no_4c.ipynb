{
  "nbformat": 4,
  "nbformat_minor": 0,
  "metadata": {
    "colab": {
      "provenance": [],
      "authorship_tag": "ABX9TyPRnUVkU/K3tqH65oYSaYR0",
      "include_colab_link": true
    },
    "kernelspec": {
      "name": "python3",
      "display_name": "Python 3"
    },
    "language_info": {
      "name": "python"
    }
  },
  "cells": [
    {
      "cell_type": "markdown",
      "metadata": {
        "id": "view-in-github",
        "colab_type": "text"
      },
      "source": [
        "<a href=\"https://colab.research.google.com/github/imdineshkumar24/Big_Data_Analytics_exp/blob/main/BDA_ex_no_4c.ipynb\" target=\"_parent\"><img src=\"https://colab.research.google.com/assets/colab-badge.svg\" alt=\"Open In Colab\"/></a>"
      ]
    },
    {
      "cell_type": "code",
      "execution_count": null,
      "metadata": {
        "colab": {
          "base_uri": "https://localhost:8080/"
        },
        "id": "F8dCi9ifE1qb",
        "outputId": "fcf76c33-300d-42f4-dbc2-9244734a1501"
      },
      "outputs": [
        {
          "output_type": "stream",
          "name": "stdout",
          "text": [
            "Collecting pyspark\n",
            "  Downloading pyspark-3.4.1.tar.gz (310.8 MB)\n",
            "\u001b[2K     \u001b[90m━━━━━━━━━━━━━━━━━━━━━━━━━━━━━━━━━━━━━━━\u001b[0m \u001b[32m310.8/310.8 MB\u001b[0m \u001b[31m3.3 MB/s\u001b[0m eta \u001b[36m0:00:00\u001b[0m\n",
            "\u001b[?25h  Preparing metadata (setup.py) ... \u001b[?25l\u001b[?25hdone\n",
            "Requirement already satisfied: py4j==0.10.9.7 in /usr/local/lib/python3.10/dist-packages (from pyspark) (0.10.9.7)\n",
            "Building wheels for collected packages: pyspark\n",
            "  Building wheel for pyspark (setup.py) ... \u001b[?25l\u001b[?25hdone\n",
            "  Created wheel for pyspark: filename=pyspark-3.4.1-py2.py3-none-any.whl size=311285387 sha256=5d89e46a3de802ba7e7b3032bca95fc1fb82d5c5a40d549f2fe515e14d954ad8\n",
            "  Stored in directory: /root/.cache/pip/wheels/0d/77/a3/ff2f74cc9ab41f8f594dabf0579c2a7c6de920d584206e0834\n",
            "Successfully built pyspark\n",
            "Installing collected packages: pyspark\n",
            "Successfully installed pyspark-3.4.1\n"
          ]
        }
      ],
      "source": [
        "!pip install pyspark"
      ]
    },
    {
      "cell_type": "code",
      "source": [
        "from pyspark.sql import SparkSession\n",
        "spark = SparkSession.builder.appName('SparkByExamples.com').getOrCreate()"
      ],
      "metadata": {
        "id": "FKjknba8IHzY"
      },
      "execution_count": null,
      "outputs": []
    },
    {
      "cell_type": "code",
      "source": [
        "df=spark.read.csv(\"/content/All-Cricket-World-Cup-Centuries.csv\",header=True)\n",
        "type(df)"
      ],
      "metadata": {
        "colab": {
          "base_uri": "https://localhost:8080/"
        },
        "id": "CndrQbGCIKNY",
        "outputId": "9c150c47-dd3f-4527-a391-0fbbe6f910c3"
      },
      "execution_count": null,
      "outputs": [
        {
          "output_type": "execute_result",
          "data": {
            "text/plain": [
              "pyspark.sql.dataframe.DataFrame"
            ]
          },
          "metadata": {},
          "execution_count": 5
        }
      ]
    },
    {
      "cell_type": "code",
      "source": [
        "df.show()"
      ],
      "metadata": {
        "colab": {
          "base_uri": "https://localhost:8080/"
        },
        "id": "lCXkR8_qIcK_",
        "outputId": "14dcf038-da00-4b38-9bdc-e73a1d9db5a3"
      },
      "execution_count": null,
      "outputs": [
        {
          "output_type": "stream",
          "name": "stdout",
          "text": [
            "+---+----------------+----+-----+---+---+------+------------+------------+--------------------+---------+------+\n",
            "|No.|          Player|Runs|Balls| 4s| 6s|   S/R|        Team|  Opposition|               Venue|     Date|Result|\n",
            "+---+----------------+----+-----+---+---+------+------------+------------+--------------------+---------+------+\n",
            "|  1|    Dennis Amiss| 137|  147| 18|  0| 93.19|     England|       India|      Lord's, London|07-Jun-75|   Won|\n",
            "|  2|    Glenn Turner|171*|  201| 16|  2| 85.07| New Zealand| East Africa|Edgbaston Cricket...|07-Jun-75|   Won|\n",
            "|  3|  Keith Fletcher| 131|  147| 13|  0| 89.11|     England| New Zealand|Trent Bridge, Not...|11-Jun-75|   Won|\n",
            "|  4|     Alan Turner| 101|  113|  9|  1| 89.38|   Australia|   Sri Lanka|    The Oval, London|11-Jun-75|   Won|\n",
            "|  5|    Glenn Turner|114*|  177| 13|  0|  64.4| New Zealand|       India|Old Trafford Cric...|14-Jun-75|   Won|\n",
            "|  6|     Clive Lloyd| 102|   85| 12|  2|   120| West Indies|   Australia|      Lord's, London|21-Jun-75|   Won|\n",
            "|  7|Gordon Greenidge|106*|  173|  9|  1| 61.27| West Indies|       India|Edgbaston Cricket...|09-Jun-79|   Won|\n",
            "|  8|    Viv Richards|138*|  157| 11|  3| 87.89| West Indies|     England|      Lord's, London|23-Jun-79|   Won|\n",
            "|  9|      Allan Lamb| 102|  105| 12|  2| 97.14|     England| New Zealand|    The Oval, London|09-Jun-83|   Won|\n",
            "| 10|     David Gower| 130|  120| 12|  5|108.33|     England|   Sri Lanka|County Ground, Ta...|11-Jun-83|   Won|\n",
            "| 11| Trevor Chappell| 110|  131| 11|  0| 83.96|   Australia|       India|Trent Bridge, Not...|13-Jun-83|   Won|\n",
            "| 12|Gordon Greenidge|105*|  147|  5|  1| 71.42| West Indies|    Zimbabwe| New Road, Worcester|13-Jun-83|   Won|\n",
            "| 13|    Viv Richards| 119|  146|  6|  1|  81.5| West Indies|       India|    The Oval, London|15-Jun-83|   Won|\n",
            "| 14|      Imran Khan|102*|  133| 11|  0| 76.69|    Pakistan|   Sri Lanka|Headingley Stadiu...|16-Jun-83|   Won|\n",
            "| 15|       Kapil Dev|175*|  138| 16|  6|126.81|       India|    Zimbabwe|Nevill Ground, Ro...|18-Jun-83|   Won|\n",
            "| 16|    Zaheer Abbas|103*|  121|  6|  0| 85.12|    Pakistan| New Zealand|Trent Bridge, Not...|20-Jun-83|   Won|\n",
            "| 17|   Javed Miandad| 103|  100|  6|  0|   103|    Pakistan|   Sri Lanka|Niaz Stadium, Hyd...|08-Oct-87|   Won|\n",
            "| 18|     Geoff Marsh| 110|  141|  7|  1| 78.01|   Australia|       India|M. A. Chidambaram...|09-Oct-87|   Won|\n",
            "| 19|  David Houghton| 142|  137| 13|  6|103.64|    Zimbabwe| New Zealand|Lal Bahadur Shast...|10-Oct-87|  Lost|\n",
            "| 20|  Desmond Haynes| 105|  124| 10|  1| 84.67| West Indies|   Sri Lanka|National Stadium,...|13-Oct-87|   Won|\n",
            "+---+----------------+----+-----+---+---+------+------------+------------+--------------------+---------+------+\n",
            "only showing top 20 rows\n",
            "\n"
          ]
        }
      ]
    },
    {
      "cell_type": "code",
      "source": [
        "df.select(df['Player'],df['Runs']).show()"
      ],
      "metadata": {
        "colab": {
          "base_uri": "https://localhost:8080/"
        },
        "id": "HlYur_KXIhHv",
        "outputId": "0a238acb-cb27-4ce8-e630-91369ceb0eed"
      },
      "execution_count": null,
      "outputs": [
        {
          "output_type": "stream",
          "name": "stdout",
          "text": [
            "+----------------+----+\n",
            "|          Player|Runs|\n",
            "+----------------+----+\n",
            "|    Dennis Amiss| 137|\n",
            "|    Glenn Turner|171*|\n",
            "|  Keith Fletcher| 131|\n",
            "|     Alan Turner| 101|\n",
            "|    Glenn Turner|114*|\n",
            "|     Clive Lloyd| 102|\n",
            "|Gordon Greenidge|106*|\n",
            "|    Viv Richards|138*|\n",
            "|      Allan Lamb| 102|\n",
            "|     David Gower| 130|\n",
            "| Trevor Chappell| 110|\n",
            "|Gordon Greenidge|105*|\n",
            "|    Viv Richards| 119|\n",
            "|      Imran Khan|102*|\n",
            "|       Kapil Dev|175*|\n",
            "|    Zaheer Abbas|103*|\n",
            "|   Javed Miandad| 103|\n",
            "|     Geoff Marsh| 110|\n",
            "|  David Houghton| 142|\n",
            "|  Desmond Haynes| 105|\n",
            "+----------------+----+\n",
            "only showing top 20 rows\n",
            "\n"
          ]
        }
      ]
    },
    {
      "cell_type": "code",
      "source": [
        "df.select('*').show()"
      ],
      "metadata": {
        "colab": {
          "base_uri": "https://localhost:8080/"
        },
        "id": "pN3sfCAXMnxN",
        "outputId": "dd01f850-9685-4ee6-f4a8-ebc52302355d"
      },
      "execution_count": null,
      "outputs": [
        {
          "output_type": "stream",
          "name": "stdout",
          "text": [
            "+---+----------------+----+-----+---+---+------+------------+------------+--------------------+---------+------+\n",
            "|No.|          Player|Runs|Balls| 4s| 6s|   S/R|        Team|  Opposition|               Venue|     Date|Result|\n",
            "+---+----------------+----+-----+---+---+------+------------+------------+--------------------+---------+------+\n",
            "|  1|    Dennis Amiss| 137|  147| 18|  0| 93.19|     England|       India|      Lord's, London|07-Jun-75|   Won|\n",
            "|  2|    Glenn Turner|171*|  201| 16|  2| 85.07| New Zealand| East Africa|Edgbaston Cricket...|07-Jun-75|   Won|\n",
            "|  3|  Keith Fletcher| 131|  147| 13|  0| 89.11|     England| New Zealand|Trent Bridge, Not...|11-Jun-75|   Won|\n",
            "|  4|     Alan Turner| 101|  113|  9|  1| 89.38|   Australia|   Sri Lanka|    The Oval, London|11-Jun-75|   Won|\n",
            "|  5|    Glenn Turner|114*|  177| 13|  0|  64.4| New Zealand|       India|Old Trafford Cric...|14-Jun-75|   Won|\n",
            "|  6|     Clive Lloyd| 102|   85| 12|  2|   120| West Indies|   Australia|      Lord's, London|21-Jun-75|   Won|\n",
            "|  7|Gordon Greenidge|106*|  173|  9|  1| 61.27| West Indies|       India|Edgbaston Cricket...|09-Jun-79|   Won|\n",
            "|  8|    Viv Richards|138*|  157| 11|  3| 87.89| West Indies|     England|      Lord's, London|23-Jun-79|   Won|\n",
            "|  9|      Allan Lamb| 102|  105| 12|  2| 97.14|     England| New Zealand|    The Oval, London|09-Jun-83|   Won|\n",
            "| 10|     David Gower| 130|  120| 12|  5|108.33|     England|   Sri Lanka|County Ground, Ta...|11-Jun-83|   Won|\n",
            "| 11| Trevor Chappell| 110|  131| 11|  0| 83.96|   Australia|       India|Trent Bridge, Not...|13-Jun-83|   Won|\n",
            "| 12|Gordon Greenidge|105*|  147|  5|  1| 71.42| West Indies|    Zimbabwe| New Road, Worcester|13-Jun-83|   Won|\n",
            "| 13|    Viv Richards| 119|  146|  6|  1|  81.5| West Indies|       India|    The Oval, London|15-Jun-83|   Won|\n",
            "| 14|      Imran Khan|102*|  133| 11|  0| 76.69|    Pakistan|   Sri Lanka|Headingley Stadiu...|16-Jun-83|   Won|\n",
            "| 15|       Kapil Dev|175*|  138| 16|  6|126.81|       India|    Zimbabwe|Nevill Ground, Ro...|18-Jun-83|   Won|\n",
            "| 16|    Zaheer Abbas|103*|  121|  6|  0| 85.12|    Pakistan| New Zealand|Trent Bridge, Not...|20-Jun-83|   Won|\n",
            "| 17|   Javed Miandad| 103|  100|  6|  0|   103|    Pakistan|   Sri Lanka|Niaz Stadium, Hyd...|08-Oct-87|   Won|\n",
            "| 18|     Geoff Marsh| 110|  141|  7|  1| 78.01|   Australia|       India|M. A. Chidambaram...|09-Oct-87|   Won|\n",
            "| 19|  David Houghton| 142|  137| 13|  6|103.64|    Zimbabwe| New Zealand|Lal Bahadur Shast...|10-Oct-87|  Lost|\n",
            "| 20|  Desmond Haynes| 105|  124| 10|  1| 84.67| West Indies|   Sri Lanka|National Stadium,...|13-Oct-87|   Won|\n",
            "+---+----------------+----+-----+---+---+------+------------+------------+--------------------+---------+------+\n",
            "only showing top 20 rows\n",
            "\n"
          ]
        }
      ]
    },
    {
      "cell_type": "code",
      "source": [
        "df.printSchema()"
      ],
      "metadata": {
        "colab": {
          "base_uri": "https://localhost:8080/"
        },
        "id": "27FlhPQ6M0sI",
        "outputId": "a58807c6-690f-471d-c282-54fbf5c0b5a5"
      },
      "execution_count": null,
      "outputs": [
        {
          "output_type": "stream",
          "name": "stdout",
          "text": [
            "root\n",
            " |-- No.: string (nullable = true)\n",
            " |-- Player: string (nullable = true)\n",
            " |-- Runs: string (nullable = true)\n",
            " |-- Balls: string (nullable = true)\n",
            " |-- 4s: string (nullable = true)\n",
            " |-- 6s: string (nullable = true)\n",
            " |-- S/R: string (nullable = true)\n",
            " |-- Team: string (nullable = true)\n",
            " |-- Opposition: string (nullable = true)\n",
            " |-- Venue: string (nullable = true)\n",
            " |-- Date: string (nullable = true)\n",
            " |-- Result: string (nullable = true)\n",
            "\n"
          ]
        }
      ]
    },
    {
      "cell_type": "code",
      "source": [
        "df.filter(df.Team == \" India\").show(5)"
      ],
      "metadata": {
        "colab": {
          "base_uri": "https://localhost:8080/"
        },
        "id": "dHUdWnHhQqex",
        "outputId": "e0639b09-7735-41b3-d6e0-eca2f548c926"
      },
      "execution_count": null,
      "outputs": [
        {
          "output_type": "stream",
          "name": "stdout",
          "text": [
            "+---+----------------+----+-----+---+---+------+------+------------+--------------------+---------+------+\n",
            "|No.|          Player|Runs|Balls| 4s| 6s|   S/R|  Team|  Opposition|               Venue|     Date|Result|\n",
            "+---+----------------+----+-----+---+---+------+------+------------+--------------------+---------+------+\n",
            "| 15|       Kapil Dev|175*|  138| 16|  6|126.81| India|    Zimbabwe|Nevill Ground, Ro...|18-Jun-83|   Won|\n",
            "| 26|  Sunil Gavaskar|103*|   88| 10|  3|117.04| India| New Zealand|Vidharba Cricket ...|31-Oct-87|   Won|\n",
            "| 38|Sachin Tendulkar|127*|  138| 15|  1| 92.02| India|       Kenya|Barabati Stadium,...|18-Feb-96|   Won|\n",
            "| 43|Sachin Tendulkar| 137|  137|  8|  5|   100| India|   Sri Lanka|Feroz Shah Kotla ...|02-Mar-96|  Lost|\n",
            "| 47|    Vinod Kambli| 106|  110| 11|  0| 96.36| India|    Zimbabwe|Green Park Stadiu...|06-Mar-96|   Won|\n",
            "+---+----------------+----+-----+---+---+------+------+------------+--------------------+---------+------+\n",
            "only showing top 5 rows\n",
            "\n"
          ]
        }
      ]
    },
    {
      "cell_type": "code",
      "source": [
        "df.filter(df.Player == \"Virat Kohli\").show()"
      ],
      "metadata": {
        "colab": {
          "base_uri": "https://localhost:8080/"
        },
        "id": "WjT-uC_oNYlA",
        "outputId": "55b1174a-d437-4ba9-e5bd-fa641ca6d61c"
      },
      "execution_count": null,
      "outputs": [
        {
          "output_type": "stream",
          "name": "stdout",
          "text": [
            "+---+-----------+----+-----+---+---+------+------+-----------+--------------------+---------+------+\n",
            "|No.|     Player|Runs|Balls| 4s| 6s|   S/R|  Team| Opposition|               Venue|     Date|Result|\n",
            "+---+-----------+----+-----+---+---+------+------+-----------+--------------------+---------+------+\n",
            "|105|Virat Kohli|100*|   83|  8|  2|120.48| India| Bangladesh|Sher-e-Bangla Cri...|19-Feb-11|   Won|\n",
            "|131|Virat Kohli| 107|  126|  8|  0| 84.92| India|   Pakistan|Adelaide Oval, Ad...|15-Feb-15|   Won|\n",
            "+---+-----------+----+-----+---+---+------+------+-----------+--------------------+---------+------+\n",
            "\n"
          ]
        }
      ]
    },
    {
      "cell_type": "code",
      "source": [
        "unique_teams = df.select(\"Team\").distinct().collect()\n",
        "print(unique_teams)"
      ],
      "metadata": {
        "colab": {
          "base_uri": "https://localhost:8080/"
        },
        "id": "v2OiLsqqPCr5",
        "outputId": "bcbb37a8-a760-4bd8-8272-aa6c0024655e"
      },
      "execution_count": null,
      "outputs": [
        {
          "output_type": "stream",
          "name": "stdout",
          "text": [
            "[Row(Team=' Ireland'), Row(Team=' Bangladesh'), Row(Team=' Australia'), Row(Team=' Canada'), Row(Team=' West Indies'), Row(Team=' United Arab Emirates'), Row(Team=' Zimbabwe'), Row(Team=' Pakistan'), Row(Team=' Sri Lanka'), Row(Team=' England'), Row(Team=' India'), Row(Team=' New Zealand'), Row(Team=' Netherlands'), Row(Team=' Scotland'), Row(Team=' South Africa')]\n"
          ]
        }
      ]
    },
    {
      "cell_type": "code",
      "source": [
        "df.groupBy(\"Team\",\"4s\").sum().show(5)"
      ],
      "metadata": {
        "colab": {
          "base_uri": "https://localhost:8080/"
        },
        "id": "nAYnAn8HP4SJ",
        "outputId": "fd3fb6ba-6f36-4bf7-dba7-4c1bd00ae042"
      },
      "execution_count": null,
      "outputs": [
        {
          "output_type": "stream",
          "name": "stdout",
          "text": [
            "+-------------+---+\n",
            "|Team         |4s |\n",
            "+-------------+---+\n",
            "| India       |15 |\n",
            "| Sri Lanka   |13 |\n",
            "| West Indies |5  |\n",
            "| England     |10 |\n",
            "| Zimbabwe    |13 |\n",
            "| New Zealand |12 |\n",
            "| Australia   |13 |\n",
            "| South Africa|19 |\n",
            "| England     |13 |\n",
            "| Bangladesh  |9  |\n",
            "| Sri Lanka   |8  |\n",
            "| India       |10 |\n",
            "| West Indies |11 |\n",
            "| Zimbabwe    |11 |\n",
            "| Pakistan    |9  |\n",
            "| South Africa|10 |\n",
            "| West Indies |8  |\n",
            "| Pakistan    |4  |\n",
            "| Netherlands |11 |\n",
            "| Australia   |9  |\n",
            "+-------------+---+\n",
            "only showing top 20 rows\n",
            "\n"
          ]
        }
      ]
    },
    {
      "cell_type": "code",
      "source": [
        "df.groupBy(\"Player\",\"6s\").sum().show(5)"
      ],
      "metadata": {
        "colab": {
          "base_uri": "https://localhost:8080/"
        },
        "id": "kpf84-aQUU7e",
        "outputId": "696d1f85-846d-46d4-ec83-f2e9d96de781"
      },
      "execution_count": null,
      "outputs": [
        {
          "output_type": "stream",
          "name": "stdout",
          "text": [
            "+-----------------+---+\n",
            "|           Player| 6s|\n",
            "+-----------------+---+\n",
            "|     Rahul Dravid|  1|\n",
            "|Sanath Jayasuriya|  7|\n",
            "|      Ross Taylor|  7|\n",
            "|   Sourav Ganguly|  2|\n",
            "|      Virat Kohli|  2|\n",
            "+-----------------+---+\n",
            "only showing top 5 rows\n",
            "\n"
          ]
        }
      ]
    },
    {
      "cell_type": "code",
      "source": [
        "from pyspark.sql.functions import sum,avg,max,col\n",
        "df.groupBy(\"Team\").agg(sum(\"6s\")).show()"
      ],
      "metadata": {
        "colab": {
          "base_uri": "https://localhost:8080/"
        },
        "id": "dGE6xos8Up5I",
        "outputId": "6a97eaef-55a9-4743-ff1a-23cdbd0aaaf5"
      },
      "execution_count": null,
      "outputs": [
        {
          "output_type": "stream",
          "name": "stdout",
          "text": [
            "+--------------------+-------+\n",
            "|                Team|sum(6s)|\n",
            "+--------------------+-------+\n",
            "|             Ireland|   14.0|\n",
            "|          Bangladesh|    7.0|\n",
            "|           Australia|   88.0|\n",
            "|              Canada|    6.0|\n",
            "|         West Indies|   62.0|\n",
            "| United Arab Emir...|    1.0|\n",
            "|            Zimbabwe|   21.0|\n",
            "|            Pakistan|    8.0|\n",
            "|           Sri Lanka|   41.0|\n",
            "|             England|   50.0|\n",
            "|               India|   86.0|\n",
            "|         New Zealand|   42.0|\n",
            "|         Netherlands|   11.0|\n",
            "|            Scotland|    4.0|\n",
            "|        South Africa|   55.0|\n",
            "+--------------------+-------+\n",
            "\n"
          ]
        }
      ]
    },
    {
      "cell_type": "code",
      "source": [
        "df.groupBy(\"Player\").agg(max(\"Runs\")).show()"
      ],
      "metadata": {
        "colab": {
          "base_uri": "https://localhost:8080/"
        },
        "id": "nB7gVWB6VdC6",
        "outputId": "f104c7c4-13eb-4407-9b60-7599dc00abce"
      },
      "execution_count": null,
      "outputs": [
        {
          "output_type": "stream",
          "name": "stdout",
          "text": [
            "+-----------------+---------+\n",
            "|           Player|max(Runs)|\n",
            "+-----------------+---------+\n",
            "|   AB de Villiers|     162*|\n",
            "|     Aamer Sohail|      114|\n",
            "|      Aaron Finch|      153|\n",
            "|   Adam Gilchrist|      149|\n",
            "|      Ajay Jadeja|     100*|\n",
            "|      Alan Turner|      101|\n",
            "|       Allan Lamb|      102|\n",
            "|    Andrew Hudson|      161|\n",
            "|   Andrew Strauss|      158|\n",
            "|   Andrew Symonds|     143*|\n",
            "|      Andy Flower|     115*|\n",
            "|   Angelo Mathews|      113|\n",
            "|Aravinda de Silva|      145|\n",
            "| Avishka Fernando|      104|\n",
            "|       Babar Azam|     101*|\n",
            "|       Brad Hodge|      123|\n",
            "|   Brendan Taylor|      138|\n",
            "| Brendon McCullum|      101|\n",
            "|       Brian Lara|      116|\n",
            "|Carlos Brathwaite|      101|\n",
            "+-----------------+---------+\n",
            "only showing top 20 rows\n",
            "\n"
          ]
        }
      ]
    },
    {
      "cell_type": "code",
      "source": [
        "df.orderBy('Team','Player').show(truncate=False)"
      ],
      "metadata": {
        "colab": {
          "base_uri": "https://localhost:8080/"
        },
        "id": "dGyenOpZWTHa",
        "outputId": "724c9ffd-4c4a-48ea-dbcc-fd1d7a91aee7"
      },
      "execution_count": null,
      "outputs": [
        {
          "output_type": "stream",
          "name": "stdout",
          "text": [
            "+---+--------------+----+-----+---+---+------+----------+-------------+-------------------------------------------+---------+------+\n",
            "|No.|Player        |Runs|Balls|4s |6s |S/R   |Team      |Opposition   |Venue                                      |Date     |Result|\n",
            "+---+--------------+----+-----+---+---+------+----------+-------------+-------------------------------------------+---------+------+\n",
            "|128|Aaron Finch   |135 |128  |12 |3  |105.46| Australia| England     |Melbourne Cricket Ground, Melbourne        |14-Feb-15|Won   |\n",
            "|174|Aaron Finch   |153 |132  |15 |5  |115.9 | Australia| Sri Lanka   |The Oval, London                           |15-Jun-19|Won   |\n",
            "|183|Aaron Finch   |100 |116  |11 |2  |86.2  | Australia| England     |Lord's, London                             |25-Jun-19|Won   |\n",
            "|103|Adam Gilchrist|149 |104  |13 |8  |143.26| Australia| Sri Lanka   |Kensington Oval, Bridgetown                |28-Apr-07|Won   |\n",
            "|4  |Alan Turner   |101 |113  |9  |1  |89.38 | Australia| Sri Lanka   |The Oval, London                           |11-Jun-75|Won   |\n",
            "|67 |Andrew Symonds|143*|125  |18 |2  |114.4 | Australia| Pakistan    |Wanderers Stadium, Johannesburg            |11-Feb-03|Won   |\n",
            "|87 |Brad Hodge    |123 |89   |8  |7  |138.2 | Australia| Netherlands |Warner Park Sporting Complex, Basseterre   |18-Mar-07|Won   |\n",
            "|35 |David Boon    |100 |147  |8  |0  |68.02 | Australia| West Indies |Melbourne Cricket Ground, Melbourne        |18-Mar-92|Won   |\n",
            "|29 |David Boon    |100 |133  |11 |0  |75.18 | Australia| New Zealand |Eden Park, Auckland                        |22-Feb-92|Lost  |\n",
            "|172|David Warner  |107 |111  |11 |1  |96.39 | Australia| Pakistan    |County Ground, Taunton                     |12-Jun-19|Won   |\n",
            "|147|David Warner  |178 |133  |19 |5  |133.83| Australia| Afghanistan |WACA Ground, Perth                         |04-Mar-15|Won   |\n",
            "|179|David Warner  |166 |147  |14 |5  |112.92| Australia| Bangladesh  |Trent Bridge, Nottingham                   |20-Jun-19|Won   |\n",
            "|196|David Warner  |122 |117  |15 |2  |104.27| Australia| South Africa|Old Trafford Cricket Ground, Manchester    |06-Jul-19|Lost  |\n",
            "|18 |Geoff Marsh   |110 |141  |7  |1  |78.01 | Australia| India       |M. A. Chidambaram Stadium, Madras          |09-Oct-87|Won   |\n",
            "|24 |Geoff Marsh   |126*|149  |12 |3  |84.56 | Australia| New Zealand |Sector 16 Stadium, Chandigarh              |27-Oct-87|Won   |\n",
            "|151|Glenn Maxwell |102 |53   |10 |4  |192.45| Australia| Sri Lanka   |Sydney Cricket Ground, Sydney              |08-Mar-15|Won   |\n",
            "|41 |Mark Waugh    |126 |135  |8  |3  |93.33 | Australia| India       |Wankhede Stadium, Mumbai                   |27-Feb-96|Won   |\n",
            "|40 |Mark Waugh    |130 |128  |14 |1  |101.56| Australia| Kenya       |Indira Priyadarshini Stadium, Visakhapatnam|23-Feb-96|Won   |\n",
            "|50 |Mark Waugh    |110 |112  |6  |2  |98.21 | Australia| New Zealand |M. A. Chidambaram Stadium, Madras          |11-Mar-96|Won   |\n",
            "|57 |Mark Waugh    |104 |120  |13 |0  |86.66 | Australia| Zimbabwe    |Lord's, London                             |09-Jun-99|Won   |\n",
            "+---+--------------+----+-----+---+---+------+----------+-------------+-------------------------------------------+---------+------+\n",
            "only showing top 20 rows\n",
            "\n"
          ]
        }
      ]
    },
    {
      "cell_type": "code",
      "source": [],
      "metadata": {
        "id": "JxFx2Eb7W7Z0"
      },
      "execution_count": null,
      "outputs": []
    }
  ]
}