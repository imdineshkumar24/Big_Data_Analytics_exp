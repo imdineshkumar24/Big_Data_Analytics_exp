{
  "nbformat": 4,
  "nbformat_minor": 0,
  "metadata": {
    "colab": {
      "provenance": [],
      "authorship_tag": "ABX9TyM54BKUOajjDnG2BC0gHRho",
      "include_colab_link": true
    },
    "kernelspec": {
      "name": "python3",
      "display_name": "Python 3"
    },
    "language_info": {
      "name": "python"
    }
  },
  "cells": [
    {
      "cell_type": "markdown",
      "metadata": {
        "id": "view-in-github",
        "colab_type": "text"
      },
      "source": [
        "<a href=\"https://colab.research.google.com/github/imdineshkumar24/Big_Data_Analytics_exp/blob/main/BDA_ex_no_2a_pynb.ipynb\" target=\"_parent\"><img src=\"https://colab.research.google.com/assets/colab-badge.svg\" alt=\"Open In Colab\"/></a>"
      ]
    },
    {
      "cell_type": "markdown",
      "source": [
        "Spark Session"
      ],
      "metadata": {
        "id": "zrfM7YG8Nfr5"
      }
    },
    {
      "cell_type": "code",
      "execution_count": null,
      "metadata": {
        "colab": {
          "base_uri": "https://localhost:8080/"
        },
        "id": "FoheY-IXC3sq",
        "outputId": "e3acb05c-a3ff-4859-d4d3-dced24f8e6e8"
      },
      "outputs": [
        {
          "output_type": "stream",
          "name": "stdout",
          "text": [
            "Collecting pyspark\n",
            "  Downloading pyspark-3.4.1.tar.gz (310.8 MB)\n",
            "\u001b[2K     \u001b[90m━━━━━━━━━━━━━━━━━━━━━━━━━━━━━━━━━━━━━━━\u001b[0m \u001b[32m310.8/310.8 MB\u001b[0m \u001b[31m3.7 MB/s\u001b[0m eta \u001b[36m0:00:00\u001b[0m\n",
            "\u001b[?25h  Preparing metadata (setup.py) ... \u001b[?25l\u001b[?25hdone\n",
            "Requirement already satisfied: py4j==0.10.9.7 in /usr/local/lib/python3.10/dist-packages (from pyspark) (0.10.9.7)\n",
            "Building wheels for collected packages: pyspark\n",
            "  Building wheel for pyspark (setup.py) ... \u001b[?25l\u001b[?25hdone\n",
            "  Created wheel for pyspark: filename=pyspark-3.4.1-py2.py3-none-any.whl size=311285397 sha256=cddf0e0e6c6f15549d856df7fbfa79cbbd353ec25e2f5a15343688150b5a2ea8\n",
            "  Stored in directory: /root/.cache/pip/wheels/0d/77/a3/ff2f74cc9ab41f8f594dabf0579c2a7c6de920d584206e0834\n",
            "Successfully built pyspark\n",
            "Installing collected packages: pyspark\n",
            "Successfully installed pyspark-3.4.1\n"
          ]
        }
      ],
      "source": [
        "!pip install pyspark"
      ]
    },
    {
      "cell_type": "code",
      "source": [
        "from pyspark.sql import SparkSession\n",
        "spark= SparkSession.builder.master(\"local[1]\").appName(\"SparkByExample.com\").getOrCreate()"
      ],
      "metadata": {
        "id": "frmBkOObC_AX"
      },
      "execution_count": null,
      "outputs": []
    },
    {
      "cell_type": "code",
      "source": [
        "spark"
      ],
      "metadata": {
        "colab": {
          "base_uri": "https://localhost:8080/",
          "height": 219
        },
        "id": "Y_naWvwoEQf2",
        "outputId": "1e70e3c9-d6dd-4360-af15-866c4326637e"
      },
      "execution_count": null,
      "outputs": [
        {
          "output_type": "execute_result",
          "data": {
            "text/plain": [
              "<pyspark.sql.session.SparkSession at 0x7a99a46f3cd0>"
            ],
            "text/html": [
              "\n",
              "            <div>\n",
              "                <p><b>SparkSession - in-memory</b></p>\n",
              "                \n",
              "        <div>\n",
              "            <p><b>SparkContext</b></p>\n",
              "\n",
              "            <p><a href=\"http://7b169521b89b:4040\">Spark UI</a></p>\n",
              "\n",
              "            <dl>\n",
              "              <dt>Version</dt>\n",
              "                <dd><code>v3.4.1</code></dd>\n",
              "              <dt>Master</dt>\n",
              "                <dd><code>local[1]</code></dd>\n",
              "              <dt>AppName</dt>\n",
              "                <dd><code>SparkByExample.com</code></dd>\n",
              "            </dl>\n",
              "        </div>\n",
              "        \n",
              "            </div>\n",
              "        "
            ]
          },
          "metadata": {},
          "execution_count": 3
        }
      ]
    },
    {
      "cell_type": "markdown",
      "source": [
        "display version & masternode address"
      ],
      "metadata": {
        "id": "RAKVsZVrEnDU"
      }
    },
    {
      "cell_type": "markdown",
      "source": [
        "count() action"
      ],
      "metadata": {
        "id": "3KI-ZVJbEyO0"
      }
    },
    {
      "cell_type": "code",
      "source": [
        "sc=spark.sparkContext\n",
        "data=[1,2,3,4,5,6,7,8,9,10,11,12]\n",
        "rdd=sc.parallelize(data)\n",
        "print(rdd.count())"
      ],
      "metadata": {
        "colab": {
          "base_uri": "https://localhost:8080/"
        },
        "id": "xrN4CxckEUol",
        "outputId": "e2be8e00-31fb-4e0d-f5a4-b2f7d7e1d4e5"
      },
      "execution_count": null,
      "outputs": [
        {
          "output_type": "stream",
          "name": "stdout",
          "text": [
            "12\n"
          ]
        }
      ]
    },
    {
      "cell_type": "markdown",
      "source": [
        "collect action"
      ],
      "metadata": {
        "id": "TFwALQSyF8Zk"
      }
    },
    {
      "cell_type": "code",
      "source": [
        "sc=spark.sparkContext\n",
        "data=[1,2,3,4,5,6,7,8,9,10,11,12]\n",
        "rdd=sc.parallelize(data)\n",
        "print(rdd.collect())"
      ],
      "metadata": {
        "colab": {
          "base_uri": "https://localhost:8080/"
        },
        "id": "ogUsF0uBFbrF",
        "outputId": "fe59a09e-c898-4057-da56-6a8bcecf895e"
      },
      "execution_count": null,
      "outputs": [
        {
          "output_type": "stream",
          "name": "stdout",
          "text": [
            "[1, 2, 3, 4, 5, 6, 7, 8, 9, 10, 11, 12]\n"
          ]
        }
      ]
    },
    {
      "cell_type": "code",
      "source": [
        "print(rdd.first())"
      ],
      "metadata": {
        "colab": {
          "base_uri": "https://localhost:8080/"
        },
        "id": "2u3UtZkLGA2r",
        "outputId": "9f414a40-4169-4f73-a47a-b0395878fe52"
      },
      "execution_count": null,
      "outputs": [
        {
          "output_type": "stream",
          "name": "stdout",
          "text": [
            "1\n"
          ]
        }
      ]
    },
    {
      "cell_type": "code",
      "source": [
        "sc=spark.sparkContext\n",
        "data=[1,2,3,4,5,6,7,8,9,10,11,12]\n",
        "rdd=sc.parallelize(data)\n",
        "print(rdd.take(8))"
      ],
      "metadata": {
        "colab": {
          "base_uri": "https://localhost:8080/"
        },
        "id": "sImkGYTgGF3z",
        "outputId": "c57ef568-2171-42a8-a12e-2ae0079801dd"
      },
      "execution_count": null,
      "outputs": [
        {
          "output_type": "stream",
          "name": "stdout",
          "text": [
            "[1, 2, 3, 4, 5, 6, 7, 8]\n"
          ]
        }
      ]
    },
    {
      "cell_type": "code",
      "source": [
        "sc=spark.sparkContext\n",
        "data=[1,2,3,4,5,6,7,]\n",
        "rdd=sc.parallelize(data)\n",
        "print(rdd.reduce(lambda x,y :x+y))"
      ],
      "metadata": {
        "colab": {
          "base_uri": "https://localhost:8080/"
        },
        "id": "8UilA39dGJaT",
        "outputId": "4f5555b9-da35-4a7a-b4ef-f0f67e1fcb33"
      },
      "execution_count": null,
      "outputs": [
        {
          "output_type": "stream",
          "name": "stdout",
          "text": [
            "28\n"
          ]
        }
      ]
    },
    {
      "cell_type": "code",
      "source": [
        "sc=spark.sparkContext\n",
        "save_rdd=sc.parallelize([1,2,3,4,5,6])\n",
        "save_rdd.saveAsTextFile(\"file3.txt\")"
      ],
      "metadata": {
        "id": "UIBF1n-4HT3D"
      },
      "execution_count": null,
      "outputs": []
    },
    {
      "cell_type": "code",
      "source": [
        "sc=spark.sparkContext\n",
        "my_rdd =sc.parallelize([1,2,3,4,5,6])\n",
        "print(my_rdd.map(lambda x: x+10).collect())"
      ],
      "metadata": {
        "colab": {
          "base_uri": "https://localhost:8080/"
        },
        "id": "6k5RRSIDIfCA",
        "outputId": "ca34ccd5-7587-4d26-d414-2173dec1d9a3"
      },
      "execution_count": null,
      "outputs": [
        {
          "output_type": "stream",
          "name": "stdout",
          "text": [
            "[11, 12, 13, 14, 15, 16]\n"
          ]
        }
      ]
    },
    {
      "cell_type": "code",
      "source": [
        "sc=spark.sparkContext\n",
        "filter_rdd =sc.parallelize([1,2,3,4,5,6])\n",
        "print(filter_rdd.filter(lambda x: x%2==0).collect())"
      ],
      "metadata": {
        "colab": {
          "base_uri": "https://localhost:8080/"
        },
        "id": "jxTAi_IDItoH",
        "outputId": "ccf73e6b-a280-4539-a8e1-237a67ab9949"
      },
      "execution_count": null,
      "outputs": [
        {
          "output_type": "stream",
          "name": "stdout",
          "text": [
            "[2, 4, 6]\n"
          ]
        }
      ]
    },
    {
      "cell_type": "code",
      "source": [
        "filterstr_rdd =sc.parallelize([\"rohit\",\"dhoni\",\"virat\",\"raina\",\"dhawan\"])\n",
        "print(filterstr_rdd.filter(lambda x: x.startswith('r')).collect())"
      ],
      "metadata": {
        "colab": {
          "base_uri": "https://localhost:8080/"
        },
        "id": "6x1GrAOPJWmf",
        "outputId": "c715cf39-74c1-444c-9ba4-ad737a195815"
      },
      "execution_count": null,
      "outputs": [
        {
          "output_type": "stream",
          "name": "stdout",
          "text": [
            "['rohit', 'raina']\n"
          ]
        }
      ]
    },
    {
      "cell_type": "code",
      "source": [
        "u_inp=sc.parallelize([1,2,3,4,5,6,7,8,9,10,11,12])\n",
        "u_rdd1=u_inp.filter(lambda x: x%2==0)\n",
        "u_rdd2=u_inp.filter(lambda x: x%3==0)\n",
        "print(u_rdd1.union(u_rdd2).collect())"
      ],
      "metadata": {
        "colab": {
          "base_uri": "https://localhost:8080/"
        },
        "id": "apCvPiCTKKNH",
        "outputId": "d01f0d8c-0e01-4ca7-e23a-8e5b9f816a78"
      },
      "execution_count": null,
      "outputs": [
        {
          "output_type": "stream",
          "name": "stdout",
          "text": [
            "[2, 4, 6, 8, 10, 12, 3, 6, 9, 12]\n"
          ]
        }
      ]
    },
    {
      "cell_type": "code",
      "source": [
        "i_inp=sc.parallelize([1,2,3,4,5,6,7,8,9,10,11,12])\n",
        "i_rdd1=i_inp.filter(lambda x: x%2==0)\n",
        "i_rdd2=i_inp.filter(lambda x: x%3==0)\n",
        "print(i_rdd1.intersection(i_rdd2).collect())"
      ],
      "metadata": {
        "colab": {
          "base_uri": "https://localhost:8080/"
        },
        "id": "o-XfNm7QLrnG",
        "outputId": "66c072a9-0672-4452-e14c-d14bcc039e8a"
      },
      "execution_count": null,
      "outputs": [
        {
          "output_type": "stream",
          "name": "stdout",
          "text": [
            "[6, 12]\n"
          ]
        }
      ]
    },
    {
      "cell_type": "code",
      "source": [
        "from pyspark import"
      ],
      "metadata": {
        "id": "bYzugu9gMIa9"
      },
      "execution_count": null,
      "outputs": []
    }
  ]
}